{
 "cells": [
  {
   "cell_type": "markdown",
   "metadata": {},
   "source": [
    "# Scheduling a Python Script\n",
    "\n",
    "You may find yourself in a situation where you need to schedule a job.  You can use Windows Task Scheduler to automatically kick off a script.  There are a couple of issues you should know about in advance.\n",
    "\n",
    "- Make sure your script works as a stand-alone.  The easiest way to do this is run the entire thing all at once.  You should be able to push play and not have to do anything else before you go further.\n",
    "- You'll need to create a batch (.bat) script, because Windows can't just open a python file\n",
    "- You'll need to tell windows (in the .bat file) which Python environment you want to use.\n",
    "\n",
    "Here's a good overview of the process:<br>\n",
    "https://datatofish.com/python-script-windows-scheduler/\n"
   ]
  },
  {
   "cell_type": "markdown",
   "metadata": {},
   "source": [
    "## Writing a Standalone Script\n",
    "\n",
    "The easiest way to write a standalone script is to put all your logic into one .py file.  That can be a little messy, so here's a way to help clean up a script so other people can understand it.\n",
    "\n",
    "There's another .py file located in the same folder as this notebook.  It's called **test_job.py**.  Let's take a look at it.  It has one function and a couple lines in the main body.  Because it's in the same folder, this notebook can *import* that .py file as a new module, then reference the functions in that .py file."
   ]
  },
  {
   "cell_type": "code",
   "execution_count": 1,
   "metadata": {},
   "outputs": [],
   "source": [
    "import test_job"
   ]
  },
  {
   "cell_type": "markdown",
   "metadata": {},
   "source": [
    "### Quick Sidebar - if __name__ == '__main__'\n",
    "\n",
    "You're going to see this a lot when you're reading scripts.  It's a good idea to understand what's going on here.\n",
    "\n",
    "<code>\n",
    "    if __name__ == '__main__':\n",
    "        some_logic()\n",
    "</code>\n",
    "\n",
    "The long-story-short version is that this is what the script is supposed to do if you execute it (double-click and run it).  Alternatively, anything outside that part of the script, you can import into another script without running anything (like we did above).\n",
    "\n",
    "Here's a pretty decent explanation of what's going on and why you would care\n",
    "\n",
    "https://www.geeksforgeeks.org/what-does-the-if-__name__-__main__-do/\n",
    "\n",
    "### End Sidebar"
   ]
  },
  {
   "cell_type": "code",
   "execution_count": 11,
   "metadata": {
    "scrolled": true
   },
   "outputs": [
    {
     "name": "stdout",
     "output_type": "stream",
     "text": [
      "You did it!  You got the right environment\n",
      "Goodbye\n"
     ]
    }
   ],
   "source": [
    "test_job.check_my_environment()"
   ]
  },
  {
   "cell_type": "markdown",
   "metadata": {},
   "source": [
    "## Creating a .bat script\n",
    "\n",
    "Batch (.bat) scripts are basically a set of commands that the windows command line can understand and execute.  This is super handy for us, because we can set up some logic to make sure we end up running our script in the right environment.  \n",
    "\n",
    "Let's use Python to find the path where our *executable* file is.  This is the specific python.exe file that we're using to run the notebook we're looking at right now.  This is a great indicator of where our environment is."
   ]
  },
  {
   "cell_type": "code",
   "execution_count": 12,
   "metadata": {},
   "outputs": [
    {
     "name": "stdout",
     "output_type": "stream",
     "text": [
      "C:\\Users\\DPCN\\AppData\\Local\\Programs\\ArcGIS\\Pro\\bin\\Python\\envs\\arcgispro-py3\\python.exe\n"
     ]
    }
   ],
   "source": [
    "import sys\n",
    "print(sys.executable)\n",
    "# sys.path"
   ]
  },
  {
   "cell_type": "markdown",
   "metadata": {},
   "source": [
    "Now that we know where our environment is, let's copy that folder and tell windows where to look when we want to open a Python script.\n",
    "\n",
    "We can use the command <code>cd</code> to tell Windows which folder to look in.\n",
    "\n",
    "Once we're in the right folder, we can either \n",
    "- Open up a Python console by writing <code>python</code>\n",
    "- Run a specific file by writing \n",
    "<code>python path-to-file</code>\n",
    "\n",
    "This script is going to look different for everyone, because it's specific to your machine.\n",
    "\n",
    "Below is what my script looked like."
   ]
  },
  {
   "cell_type": "markdown",
   "metadata": {},
   "source": [
    "<code>\n",
    "    :: change directory to where your python environment is\n",
    "    cd C:\\Users\\DPCN\\AppData\\Local\\Programs\\ArcGIS\\Pro\\bin\\Python\\envs\\arcgispro-py3\n",
    "    :: run your script\n",
    "    python C:\\Users\\DPCN\\Documents\\GitHub\\Workshop_Intermediate_3\\Scheduling\\test_job.py\n",
    "</code>"
   ]
  },
  {
   "cell_type": "code",
   "execution_count": null,
   "metadata": {},
   "outputs": [],
   "source": []
  }
 ],
 "metadata": {
  "kernelspec": {
   "display_name": "Python 3",
   "language": "python",
   "name": "python3"
  },
  "language_info": {
   "codemirror_mode": {
    "name": "ipython",
    "version": 3
   },
   "file_extension": ".py",
   "mimetype": "text/x-python",
   "name": "python",
   "nbconvert_exporter": "python",
   "pygments_lexer": "ipython3",
   "version": "3.6.8"
  }
 },
 "nbformat": 4,
 "nbformat_minor": 2
}
