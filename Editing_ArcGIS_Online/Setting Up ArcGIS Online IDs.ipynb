{
 "cells": [
  {
   "cell_type": "markdown",
   "metadata": {},
   "source": [
    "# Editing ArcGIS Online Data\n",
    "\n",
    "Editing data in ArcGIS Online is a very in-demand process as more workflows are moving to the cloud.  While ArcGIS Online makes it much easier for multiple users to edit the same dataset by hand, it presents some problems for automation.  With desktop GIS and local datasets, you have pretty easy access to the table data via databases or shapefiles.  With ArcGIS Online, you only have access to the server.  This means that rather than directly edit the data, you have to interact with the server through the following steps:\n",
    " - query the target dataset creating a copy\n",
    " - modify your copy of the dataset\n",
    " - communicate your changes back to the server\n",
    " \n",
    "Let's suppose (for an example) that we have a project where we're collecting field data.  In this case, we'll use some dummy vegetation data.  Our field users want a useful way to identify their points and communicate to each other once they've collected their data.\n",
    " \n",
    "In desktop programs and databases, ArcGIS provides a special kind of field called an \"Auto-Incrementing ID\" field.  This helps end users communicate which feature they're talking about in a very human-friendly way.  A lot of data analysts really like this idea, but ArcGIS Online doesn't do that for us.  If we want it, we'll have to do it ourselves."
   ]
  },
  {
   "cell_type": "code",
   "execution_count": 26,
   "metadata": {},
   "outputs": [
    {
     "name": "stdout",
     "output_type": "stream",
     "text": [
      "Username: DaveC_BayGeo\n",
      "Enter password: ········\n"
     ]
    }
   ],
   "source": [
    "# input your specific username\n",
    "username = input('Username: ')\n",
    "\n",
    "import arcgis\n",
    "\n",
    "# set up a GIS object to store your login information and acccess our data.\n",
    "session_gis = arcgis.GIS('https://arcgis.com',username)"
   ]
  },
  {
   "cell_type": "code",
   "execution_count": 27,
   "metadata": {},
   "outputs": [
    {
     "data": {
      "text/html": [
       "<div class=\"item_container\" style=\"height: auto; overflow: hidden; border: 1px solid #cfcfcf; border-radius: 2px; background: #f6fafa; line-height: 1.21429em; padding: 10px;\">\n",
       "                    <div class=\"item_left\" style=\"width: 210px; float: left;\">\n",
       "                       <a href='https://sfbaygeo.maps.arcgis.com/home/item.html?id=11f10170934c413c8db8a40563ed9a4a' target='_blank'>\n",
       "                        <img src='data:image/png;base64,iVBORw0KGgoAAAANSUhEUgAAAMgAAACFCAYAAAAenrcsAAABGUlEQVR42u3TAQ0AAAzCMPybBgU38LQSliwFTpEADAIGAYOAQcAgYBAwCBgEDAIYBAwCBgGDgEHAIGAQMAgYBAwCGAQMAgYBg4BBwCBgEDAIGAQwCBgEDAIGAYOAQcAgYBAwCBgEMAgYBAwCBgGDgEHAIGAQMAhgEDAIGAQMAgYBg4BBwCBgEDAIYBAwCBgEDAIGAYOAQcAgYBDAIGAQMAgYBAwCBgGDgEHAIGAQwCBgEDAIGAQMAgYBg4BBwCBgEAnAIGAQMAgYBAwCBgGDgEHAIIBBwCBgEDAIGAQMAgYBg4BBwCCAQcAgYBAwCBgEDAIGAYOAQQCDgEHAIGAQMAgYBAwCBgGDgEEAg4BBwCBgEDAIGAQMAu8MNFIYo2feTFIAAAAASUVORK5CYII=' width='200' height='133' class=\"itemThumbnail\">\n",
       "                       </a>\n",
       "                    </div>\n",
       "\n",
       "                    <div class=\"item_right\"     style=\"float: none; width: auto; overflow: hidden;\">\n",
       "                        <a href='https://sfbaygeo.maps.arcgis.com/home/item.html?id=11f10170934c413c8db8a40563ed9a4a' target='_blank'><b>Demo_Vegetation_Data_Base</b>\n",
       "                        </a>\n",
       "                        <br/><img src='https://sfbaygeo.maps.arcgis.com/home/js/jsapi/esri/css/images/item_type_icons/featureshosted16.png' style=\"vertical-align:middle;\">Feature Layer Collection by dancranford\n",
       "                        <br/>Last Modified: April 27, 2020\n",
       "                        <br/>0 comments, 28 views\n",
       "                    </div>\n",
       "                </div>\n",
       "                "
      ],
      "text/plain": [
       "<Item title:\"Demo_Vegetation_Data_Base\" type:Feature Layer Collection owner:dancranford>"
      ]
     },
     "execution_count": 27,
     "metadata": {},
     "output_type": "execute_result"
    }
   ],
   "source": [
    "# item containing our vegetation data to edit\n",
    "item_to_edit = arcgis.gis.Item(session_gis, '11f10170934c413c8db8a40563ed9a4a')\n",
    "item_to_edit"
   ]
  },
  {
   "cell_type": "code",
   "execution_count": 28,
   "metadata": {},
   "outputs": [
    {
     "name": "stdout",
     "output_type": "stream",
     "text": [
      "0 Point layer\n",
      "1 Polygon layer\n"
     ]
    }
   ],
   "source": [
    "# let's look for a point layer\n",
    "all_layers = item_to_edit.layers\n",
    "\n",
    "for i, layer in enumerate(all_layers):\n",
    "    print(i, layer.properties.name)"
   ]
  },
  {
   "cell_type": "code",
   "execution_count": 29,
   "metadata": {},
   "outputs": [],
   "source": [
    "# We'll be focusing on the point layer for the time being.\n",
    "lyr_points = all_layers[0]"
   ]
  },
  {
   "cell_type": "markdown",
   "metadata": {},
   "source": [
    "Now let's take a look at the structure of our feature layer."
   ]
  },
  {
   "cell_type": "code",
   "execution_count": 30,
   "metadata": {},
   "outputs": [
    {
     "data": {
      "text/html": [
       "<div>\n",
       "<style scoped>\n",
       "    .dataframe tbody tr th:only-of-type {\n",
       "        vertical-align: middle;\n",
       "    }\n",
       "\n",
       "    .dataframe tbody tr th {\n",
       "        vertical-align: top;\n",
       "    }\n",
       "\n",
       "    .dataframe thead th {\n",
       "        text-align: right;\n",
       "    }\n",
       "</style>\n",
       "<table border=\"1\" class=\"dataframe\">\n",
       "  <thead>\n",
       "    <tr style=\"text-align: right;\">\n",
       "      <th></th>\n",
       "      <th>OBJECTID</th>\n",
       "      <th>GlobalID</th>\n",
       "      <th>CreationDate</th>\n",
       "      <th>Creator</th>\n",
       "      <th>EditDate</th>\n",
       "      <th>Editor</th>\n",
       "      <th>VTYPE</th>\n",
       "      <th>SPECIES</th>\n",
       "      <th>DIAMETER</th>\n",
       "      <th>HEIGHT</th>\n",
       "      <th>AUTO_ID</th>\n",
       "      <th>COUNTY</th>\n",
       "      <th>STATUS</th>\n",
       "      <th>TW_STATUS</th>\n",
       "    </tr>\n",
       "  </thead>\n",
       "  <tbody>\n",
       "    <tr>\n",
       "      <td>0</td>\n",
       "      <td>1</td>\n",
       "      <td>408b9cc9-a9a1-400c-804d-e6f8b617d611</td>\n",
       "      <td>2019-02-26 03:11:55.551000118</td>\n",
       "      <td>dancranford</td>\n",
       "      <td>2020-04-28 13:58:05.986000061</td>\n",
       "      <td>DaveC_BayGeo</td>\n",
       "      <td>Brush</td>\n",
       "      <td>None</td>\n",
       "      <td>NaN</td>\n",
       "      <td>NaN</td>\n",
       "      <td>None</td>\n",
       "      <td>Alameda</td>\n",
       "      <td>Work Prescribed</td>\n",
       "      <td>Assigned</td>\n",
       "    </tr>\n",
       "    <tr>\n",
       "      <td>1</td>\n",
       "      <td>2</td>\n",
       "      <td>95a4cc36-a2a8-40de-8809-cd0669322012</td>\n",
       "      <td>2019-02-26 03:12:26.028000116</td>\n",
       "      <td>dancranford</td>\n",
       "      <td>2020-04-28 13:58:05.986000061</td>\n",
       "      <td>DaveC_BayGeo</td>\n",
       "      <td>Tree</td>\n",
       "      <td>None</td>\n",
       "      <td>NaN</td>\n",
       "      <td>NaN</td>\n",
       "      <td>None</td>\n",
       "      <td>Alameda</td>\n",
       "      <td>Complete</td>\n",
       "      <td>Completed</td>\n",
       "    </tr>\n",
       "    <tr>\n",
       "      <td>2</td>\n",
       "      <td>3</td>\n",
       "      <td>397a9495-788c-42cb-84c0-aacf7ceef8db</td>\n",
       "      <td>2019-02-26 03:13:02.457999945</td>\n",
       "      <td>dancranford</td>\n",
       "      <td>2020-04-28 13:58:05.986000061</td>\n",
       "      <td>DaveC_BayGeo</td>\n",
       "      <td>Tree</td>\n",
       "      <td>None</td>\n",
       "      <td>NaN</td>\n",
       "      <td>NaN</td>\n",
       "      <td>None</td>\n",
       "      <td>Alameda</td>\n",
       "      <td>Work Prescribed</td>\n",
       "      <td>Unassigned</td>\n",
       "    </tr>\n",
       "    <tr>\n",
       "      <td>3</td>\n",
       "      <td>4</td>\n",
       "      <td>cc8409e3-c5a0-42c3-978b-253c216a165f</td>\n",
       "      <td>2019-03-07 03:33:42.572000027</td>\n",
       "      <td>dancranford</td>\n",
       "      <td>2020-04-28 13:58:05.986000061</td>\n",
       "      <td>DaveC_BayGeo</td>\n",
       "      <td>Brush</td>\n",
       "      <td>None</td>\n",
       "      <td>NaN</td>\n",
       "      <td>NaN</td>\n",
       "      <td>None</td>\n",
       "      <td>Riverside</td>\n",
       "      <td>Work Prescribed</td>\n",
       "      <td>Completed</td>\n",
       "    </tr>\n",
       "    <tr>\n",
       "      <td>4</td>\n",
       "      <td>5</td>\n",
       "      <td>0660960c-3d81-49a9-8085-d2348dad0a99</td>\n",
       "      <td>2019-03-07 03:38:25.000000000</td>\n",
       "      <td>dancranford</td>\n",
       "      <td>2020-04-28 13:58:05.986000061</td>\n",
       "      <td>DaveC_BayGeo</td>\n",
       "      <td>Tree</td>\n",
       "      <td>None</td>\n",
       "      <td>NaN</td>\n",
       "      <td>NaN</td>\n",
       "      <td>None</td>\n",
       "      <td>Riverside</td>\n",
       "      <td>Inventory</td>\n",
       "      <td>Assigned</td>\n",
       "    </tr>\n",
       "  </tbody>\n",
       "</table>\n",
       "</div>"
      ],
      "text/plain": [
       "   OBJECTID                              GlobalID  \\\n",
       "0         1  408b9cc9-a9a1-400c-804d-e6f8b617d611   \n",
       "1         2  95a4cc36-a2a8-40de-8809-cd0669322012   \n",
       "2         3  397a9495-788c-42cb-84c0-aacf7ceef8db   \n",
       "3         4  cc8409e3-c5a0-42c3-978b-253c216a165f   \n",
       "4         5  0660960c-3d81-49a9-8085-d2348dad0a99   \n",
       "\n",
       "                   CreationDate      Creator                      EditDate  \\\n",
       "0 2019-02-26 03:11:55.551000118  dancranford 2020-04-28 13:58:05.986000061   \n",
       "1 2019-02-26 03:12:26.028000116  dancranford 2020-04-28 13:58:05.986000061   \n",
       "2 2019-02-26 03:13:02.457999945  dancranford 2020-04-28 13:58:05.986000061   \n",
       "3 2019-03-07 03:33:42.572000027  dancranford 2020-04-28 13:58:05.986000061   \n",
       "4 2019-03-07 03:38:25.000000000  dancranford 2020-04-28 13:58:05.986000061   \n",
       "\n",
       "         Editor  VTYPE SPECIES  DIAMETER  HEIGHT AUTO_ID     COUNTY  \\\n",
       "0  DaveC_BayGeo  Brush    None       NaN     NaN    None    Alameda   \n",
       "1  DaveC_BayGeo   Tree    None       NaN     NaN    None    Alameda   \n",
       "2  DaveC_BayGeo   Tree    None       NaN     NaN    None    Alameda   \n",
       "3  DaveC_BayGeo  Brush    None       NaN     NaN    None  Riverside   \n",
       "4  DaveC_BayGeo   Tree    None       NaN     NaN    None  Riverside   \n",
       "\n",
       "            STATUS   TW_STATUS  \n",
       "0  Work Prescribed    Assigned  \n",
       "1         Complete   Completed  \n",
       "2  Work Prescribed  Unassigned  \n",
       "3  Work Prescribed   Completed  \n",
       "4        Inventory    Assigned  "
      ]
     },
     "execution_count": 30,
     "metadata": {},
     "output_type": "execute_result"
    }
   ],
   "source": [
    "df_points = lyr_points.query(as_df=True, return_geometry=False)\n",
    "df_points.head()"
   ]
  },
  {
   "cell_type": "code",
   "execution_count": 31,
   "metadata": {},
   "outputs": [
    {
     "data": {
      "text/plain": [
       "{'success': True, 'updatedFeatureCount': 41}"
      ]
     },
     "execution_count": 31,
     "metadata": {},
     "output_type": "execute_result"
    }
   ],
   "source": [
    "# Reset all the values in the AUTO_ID field.\n",
    "lyr_points.calculate(where='1=1', calc_expression = {'field': 'AUTO_ID', 'value': None})"
   ]
  },
  {
   "cell_type": "markdown",
   "metadata": {},
   "source": [
    "Now for this case, we'll assume that we're being asked to do something simple.  We just may just want to format the ID string with a short identifier, then an incrementing number.  In this case, we'll use the format **ID_00001** and increase from there.\n",
    "\n",
    "So if we think about how we might construct a string in this format that's different for each feature, the first thing we might break it out into the following steps:\n",
    " - write a function to turn a number into a formatted string ID\n",
    " - set up some logic to make a unique number for each feature\n",
    " - apply our function and unique number to each feature\n",
    " \n",
    "We'll start by writing a function for the string formatting."
   ]
  },
  {
   "cell_type": "markdown",
   "metadata": {},
   "source": [
    "## Formatting our IDs\n",
    "\n",
    "Let's use what we already know about strings to insert a number into a pre-formatted string."
   ]
  },
  {
   "cell_type": "code",
   "execution_count": 32,
   "metadata": {
    "scrolled": true
   },
   "outputs": [
    {
     "name": "stdout",
     "output_type": "stream",
     "text": [
      "ID_1\n",
      "ID_00001\n",
      "ID_000010\n"
     ]
    }
   ],
   "source": [
    "print(\"ID_{}\".format(1))\n",
    "print(\"ID_0000{}\".format(1))\n",
    "print(\"ID_0000{}\".format(10))"
   ]
  },
  {
   "cell_type": "markdown",
   "metadata": {},
   "source": [
    "#### Quick note - .zfill() method\n",
    "\n",
    "https://www.w3schools.com/python/ref_string_zfill.asp\n",
    "\n",
    "The .zfill() method is a super handy method for strings that will add leading zeroes.  It'll make sure all our IDs are the same length.  It'll make them look nice."
   ]
  },
  {
   "cell_type": "code",
   "execution_count": 33,
   "metadata": {},
   "outputs": [
    {
     "name": "stdout",
     "output_type": "stream",
     "text": [
      "ID_00001\n",
      "ID_00011\n",
      "ID_00199\n"
     ]
    }
   ],
   "source": [
    "#note here that we have to cast our int numbers into strings\n",
    "\n",
    "print(\"ID_{}\".format(\"1\".zfill(5)))\n",
    "print(\"ID_{}\".format(\"11\".zfill(5)))\n",
    "print(\"ID_{}\".format(\"199\".zfill(5)))"
   ]
  },
  {
   "cell_type": "code",
   "execution_count": 34,
   "metadata": {},
   "outputs": [],
   "source": [
    "def format_id(num):\n",
    "    #change the number to a string\n",
    "    str_num = str(num)\n",
    "    # build an ID using .zfill() to pad our number\n",
    "    new_id = \"ID_{}\".format(str_num.zfill(5))\n",
    "    return new_id"
   ]
  },
  {
   "cell_type": "code",
   "execution_count": 35,
   "metadata": {},
   "outputs": [
    {
     "data": {
      "text/plain": [
       "'ID_00005'"
      ]
     },
     "execution_count": 35,
     "metadata": {},
     "output_type": "execute_result"
    }
   ],
   "source": [
    "format_id(5)"
   ]
  },
  {
   "cell_type": "markdown",
   "metadata": {},
   "source": [
    "## Iterating through multiple IDs\n",
    "\n",
    "Now that we have some logic that accepts an integer as an input and gives us back a formatted ID, let's see how we can make these IDs unique.\n",
    "\n",
    "We'll use a for loop to generate a new ID for each feature then count up for each feature."
   ]
  },
  {
   "cell_type": "code",
   "execution_count": 36,
   "metadata": {},
   "outputs": [
    {
     "name": "stdout",
     "output_type": "stream",
     "text": [
      "ID_00001\n",
      "ID_00002\n",
      "ID_00003\n",
      "ID_00004\n",
      "ID_00005\n",
      "ID_00006\n",
      "ID_00007\n",
      "ID_00008\n",
      "ID_00009\n",
      "ID_00010\n",
      "ID_00011\n",
      "ID_00012\n",
      "ID_00013\n",
      "ID_00014\n",
      "ID_00015\n",
      "ID_00016\n",
      "ID_00017\n",
      "ID_00018\n",
      "ID_00019\n"
     ]
    }
   ],
   "source": [
    "# start at 1\n",
    "counter = 1\n",
    "\n",
    "while counter < 20:\n",
    "    # call our function for IDs\n",
    "    print(format_id(counter))\n",
    "    \n",
    "    # increase the counter\n",
    "    counter += 1\n",
    "    \n",
    "#make sure you increase the counter.  This is an easy mistake that can lead to an infinite loop :)"
   ]
  },
  {
   "cell_type": "markdown",
   "metadata": {},
   "source": [
    "## Apply this logic to our features\n",
    "\n",
    "Now that we've built our IDs and we have set up some logic to create them and increment them up with each feature, let's apply this to our ArcGIS Online features.\n",
    "\n",
    "First we'll query the layer and receive a **FeatureSet** from the server<br>\n",
    "https://developers.arcgis.com/python/api-reference/arcgis.features.toc.html#featureset\n",
    "\n",
    "Then we'll modify the **Feature** objects contained in that **FeatureSet**<br>\n",
    "https://developers.arcgis.com/python/api-reference/arcgis.features.toc.html#arcgis.features.Feature"
   ]
  },
  {
   "cell_type": "code",
   "execution_count": 37,
   "metadata": {},
   "outputs": [],
   "source": [
    "# query our feature layer to get a FeatureSet object\n",
    "fset_points = lyr_points.query(return_geometry=False)"
   ]
  },
  {
   "cell_type": "code",
   "execution_count": 38,
   "metadata": {},
   "outputs": [
    {
     "data": {
      "text/plain": [
       "{\"attributes\": {\"OBJECTID\": 1, \"GlobalID\": \"408b9cc9-a9a1-400c-804d-e6f8b617d611\", \"CreationDate\": 1551150715551, \"Creator\": \"dancranford\", \"EditDate\": 1588108328760, \"Editor\": \"DaveC_BayGeo\", \"VTYPE\": \"Brush\", \"SPECIES\": null, \"DIAMETER\": null, \"HEIGHT\": null, \"AUTO_ID\": null, \"COUNTY\": \"Alameda\", \"STATUS\": \"Work Prescribed\", \"TW_STATUS\": \"Assigned\"}}"
      ]
     },
     "execution_count": 38,
     "metadata": {},
     "output_type": "execute_result"
    }
   ],
   "source": [
    "# grab one feature to test\n",
    "test_feature = fset_points.features[0]\n",
    "test_feature"
   ]
  },
  {
   "cell_type": "code",
   "execution_count": 39,
   "metadata": {},
   "outputs": [
    {
     "data": {
      "text/plain": [
       "'ID_00001'"
      ]
     },
     "execution_count": 39,
     "metadata": {},
     "output_type": "execute_result"
    }
   ],
   "source": [
    "# format an ID to insert into that feature\n",
    "id_1 = format_id(1)\n",
    "id_1"
   ]
  },
  {
   "cell_type": "code",
   "execution_count": 40,
   "metadata": {},
   "outputs": [
    {
     "data": {
      "text/plain": [
       "{\"attributes\": {\"OBJECTID\": 1, \"GlobalID\": \"408b9cc9-a9a1-400c-804d-e6f8b617d611\", \"CreationDate\": 1551150715551, \"Creator\": \"dancranford\", \"EditDate\": 1588108328760, \"Editor\": \"DaveC_BayGeo\", \"VTYPE\": \"Brush\", \"SPECIES\": null, \"DIAMETER\": null, \"HEIGHT\": null, \"AUTO_ID\": \"ID_00001\", \"COUNTY\": \"Alameda\", \"STATUS\": \"Work Prescribed\", \"TW_STATUS\": \"Assigned\"}}"
      ]
     },
     "execution_count": 40,
     "metadata": {},
     "output_type": "execute_result"
    }
   ],
   "source": [
    "# insert our new ID into our feature\n",
    "test_feature.set_value('AUTO_ID', id_1)\n",
    "test_feature"
   ]
  },
  {
   "cell_type": "markdown",
   "metadata": {},
   "source": [
    "Now that we know that works, let's do the same to all our features."
   ]
  },
  {
   "cell_type": "code",
   "execution_count": 41,
   "metadata": {},
   "outputs": [],
   "source": [
    "# start with 1\n",
    "counter = 1\n",
    "\n",
    "for feature in fset_points.features:\n",
    "    # create a new id with the counter\n",
    "    new_id = format_id(counter)\n",
    "    \n",
    "    # insert the new id into a feature\n",
    "    feature.set_value('AUTO_ID', new_id)\n",
    "    \n",
    "    # increase the counter (so we don't have duplicates)\n",
    "    counter += 1\n",
    "    "
   ]
  },
  {
   "cell_type": "code",
   "execution_count": 42,
   "metadata": {},
   "outputs": [
    {
     "data": {
      "text/html": [
       "<div>\n",
       "<style scoped>\n",
       "    .dataframe tbody tr th:only-of-type {\n",
       "        vertical-align: middle;\n",
       "    }\n",
       "\n",
       "    .dataframe tbody tr th {\n",
       "        vertical-align: top;\n",
       "    }\n",
       "\n",
       "    .dataframe thead th {\n",
       "        text-align: right;\n",
       "    }\n",
       "</style>\n",
       "<table border=\"1\" class=\"dataframe\">\n",
       "  <thead>\n",
       "    <tr style=\"text-align: right;\">\n",
       "      <th></th>\n",
       "      <th>OBJECTID</th>\n",
       "      <th>GlobalID</th>\n",
       "      <th>CreationDate</th>\n",
       "      <th>Creator</th>\n",
       "      <th>EditDate</th>\n",
       "      <th>Editor</th>\n",
       "      <th>VTYPE</th>\n",
       "      <th>SPECIES</th>\n",
       "      <th>DIAMETER</th>\n",
       "      <th>HEIGHT</th>\n",
       "      <th>AUTO_ID</th>\n",
       "      <th>COUNTY</th>\n",
       "      <th>STATUS</th>\n",
       "      <th>TW_STATUS</th>\n",
       "    </tr>\n",
       "  </thead>\n",
       "  <tbody>\n",
       "    <tr>\n",
       "      <td>0</td>\n",
       "      <td>1</td>\n",
       "      <td>408b9cc9-a9a1-400c-804d-e6f8b617d611</td>\n",
       "      <td>2019-02-26 03:11:55.551000118</td>\n",
       "      <td>dancranford</td>\n",
       "      <td>2020-04-28 21:12:08.759999990</td>\n",
       "      <td>DaveC_BayGeo</td>\n",
       "      <td>Brush</td>\n",
       "      <td>None</td>\n",
       "      <td>NaN</td>\n",
       "      <td>NaN</td>\n",
       "      <td>ID_00001</td>\n",
       "      <td>Alameda</td>\n",
       "      <td>Work Prescribed</td>\n",
       "      <td>Assigned</td>\n",
       "    </tr>\n",
       "    <tr>\n",
       "      <td>1</td>\n",
       "      <td>2</td>\n",
       "      <td>95a4cc36-a2a8-40de-8809-cd0669322012</td>\n",
       "      <td>2019-02-26 03:12:26.028000116</td>\n",
       "      <td>dancranford</td>\n",
       "      <td>2020-04-28 21:12:08.759999990</td>\n",
       "      <td>DaveC_BayGeo</td>\n",
       "      <td>Tree</td>\n",
       "      <td>None</td>\n",
       "      <td>NaN</td>\n",
       "      <td>NaN</td>\n",
       "      <td>ID_00002</td>\n",
       "      <td>Alameda</td>\n",
       "      <td>Complete</td>\n",
       "      <td>Completed</td>\n",
       "    </tr>\n",
       "    <tr>\n",
       "      <td>2</td>\n",
       "      <td>3</td>\n",
       "      <td>397a9495-788c-42cb-84c0-aacf7ceef8db</td>\n",
       "      <td>2019-02-26 03:13:02.457999945</td>\n",
       "      <td>dancranford</td>\n",
       "      <td>2020-04-28 21:12:08.759999990</td>\n",
       "      <td>DaveC_BayGeo</td>\n",
       "      <td>Tree</td>\n",
       "      <td>None</td>\n",
       "      <td>NaN</td>\n",
       "      <td>NaN</td>\n",
       "      <td>ID_00003</td>\n",
       "      <td>Alameda</td>\n",
       "      <td>Work Prescribed</td>\n",
       "      <td>Unassigned</td>\n",
       "    </tr>\n",
       "    <tr>\n",
       "      <td>3</td>\n",
       "      <td>4</td>\n",
       "      <td>cc8409e3-c5a0-42c3-978b-253c216a165f</td>\n",
       "      <td>2019-03-07 03:33:42.572000027</td>\n",
       "      <td>dancranford</td>\n",
       "      <td>2020-04-28 21:12:08.759999990</td>\n",
       "      <td>DaveC_BayGeo</td>\n",
       "      <td>Brush</td>\n",
       "      <td>None</td>\n",
       "      <td>NaN</td>\n",
       "      <td>NaN</td>\n",
       "      <td>ID_00004</td>\n",
       "      <td>Riverside</td>\n",
       "      <td>Work Prescribed</td>\n",
       "      <td>Completed</td>\n",
       "    </tr>\n",
       "    <tr>\n",
       "      <td>4</td>\n",
       "      <td>5</td>\n",
       "      <td>0660960c-3d81-49a9-8085-d2348dad0a99</td>\n",
       "      <td>2019-03-07 03:38:25.000000000</td>\n",
       "      <td>dancranford</td>\n",
       "      <td>2020-04-28 21:12:08.759999990</td>\n",
       "      <td>DaveC_BayGeo</td>\n",
       "      <td>Tree</td>\n",
       "      <td>None</td>\n",
       "      <td>NaN</td>\n",
       "      <td>NaN</td>\n",
       "      <td>ID_00005</td>\n",
       "      <td>Riverside</td>\n",
       "      <td>Inventory</td>\n",
       "      <td>Assigned</td>\n",
       "    </tr>\n",
       "  </tbody>\n",
       "</table>\n",
       "</div>"
      ],
      "text/plain": [
       "   OBJECTID                              GlobalID  \\\n",
       "0         1  408b9cc9-a9a1-400c-804d-e6f8b617d611   \n",
       "1         2  95a4cc36-a2a8-40de-8809-cd0669322012   \n",
       "2         3  397a9495-788c-42cb-84c0-aacf7ceef8db   \n",
       "3         4  cc8409e3-c5a0-42c3-978b-253c216a165f   \n",
       "4         5  0660960c-3d81-49a9-8085-d2348dad0a99   \n",
       "\n",
       "                   CreationDate      Creator                      EditDate  \\\n",
       "0 2019-02-26 03:11:55.551000118  dancranford 2020-04-28 21:12:08.759999990   \n",
       "1 2019-02-26 03:12:26.028000116  dancranford 2020-04-28 21:12:08.759999990   \n",
       "2 2019-02-26 03:13:02.457999945  dancranford 2020-04-28 21:12:08.759999990   \n",
       "3 2019-03-07 03:33:42.572000027  dancranford 2020-04-28 21:12:08.759999990   \n",
       "4 2019-03-07 03:38:25.000000000  dancranford 2020-04-28 21:12:08.759999990   \n",
       "\n",
       "         Editor  VTYPE SPECIES  DIAMETER  HEIGHT   AUTO_ID     COUNTY  \\\n",
       "0  DaveC_BayGeo  Brush    None       NaN     NaN  ID_00001    Alameda   \n",
       "1  DaveC_BayGeo   Tree    None       NaN     NaN  ID_00002    Alameda   \n",
       "2  DaveC_BayGeo   Tree    None       NaN     NaN  ID_00003    Alameda   \n",
       "3  DaveC_BayGeo  Brush    None       NaN     NaN  ID_00004  Riverside   \n",
       "4  DaveC_BayGeo   Tree    None       NaN     NaN  ID_00005  Riverside   \n",
       "\n",
       "            STATUS   TW_STATUS  \n",
       "0  Work Prescribed    Assigned  \n",
       "1         Complete   Completed  \n",
       "2  Work Prescribed  Unassigned  \n",
       "3  Work Prescribed   Completed  \n",
       "4        Inventory    Assigned  "
      ]
     },
     "execution_count": 42,
     "metadata": {},
     "output_type": "execute_result"
    }
   ],
   "source": [
    "# converting our featureset to DataFrame to check it out is a good way to see what's going on.\n",
    "fset_points.sdf.head()"
   ]
  },
  {
   "cell_type": "markdown",
   "metadata": {},
   "source": [
    "## Pushing Our Edits back to the Server\n",
    "\n",
    "Now that we've modified our copies of the features, it's time to send this information back to the server.  The way that ArcGIS Online receives our edits is in the form of features.  It will use the OBJECTID or the GlobalID from our feature to figure out which of its own features our edits correspond with.\n",
    "\n",
    "https://developers.arcgis.com/python/api-reference/arcgis.features.toc.html#arcgis.features.FeatureLayer.edit_features"
   ]
  },
  {
   "cell_type": "code",
   "execution_count": 43,
   "metadata": {},
   "outputs": [
    {
     "data": {
      "text/plain": [
       "{'addResults': [],\n",
       " 'updateResults': [{'objectId': 1,\n",
       "   'uniqueId': 1,\n",
       "   'globalId': '408b9cc9-a9a1-400c-804d-e6f8b617d611',\n",
       "   'success': True},\n",
       "  {'objectId': 2,\n",
       "   'uniqueId': 2,\n",
       "   'globalId': '95a4cc36-a2a8-40de-8809-cd0669322012',\n",
       "   'success': True},\n",
       "  {'objectId': 3,\n",
       "   'uniqueId': 3,\n",
       "   'globalId': '397a9495-788c-42cb-84c0-aacf7ceef8db',\n",
       "   'success': True},\n",
       "  {'objectId': 4,\n",
       "   'uniqueId': 4,\n",
       "   'globalId': 'cc8409e3-c5a0-42c3-978b-253c216a165f',\n",
       "   'success': True},\n",
       "  {'objectId': 5,\n",
       "   'uniqueId': 5,\n",
       "   'globalId': '0660960c-3d81-49a9-8085-d2348dad0a99',\n",
       "   'success': True},\n",
       "  {'objectId': 6,\n",
       "   'uniqueId': 6,\n",
       "   'globalId': '3bac3885-7d48-475a-9945-69ea4a7fadb0',\n",
       "   'success': True},\n",
       "  {'objectId': 7,\n",
       "   'uniqueId': 7,\n",
       "   'globalId': '71bfee7f-68c9-4ddd-b23d-285e28b3811b',\n",
       "   'success': True},\n",
       "  {'objectId': 8,\n",
       "   'uniqueId': 8,\n",
       "   'globalId': '9d7e752a-8183-4147-a0d4-2bc6d186d206',\n",
       "   'success': True},\n",
       "  {'objectId': 9,\n",
       "   'uniqueId': 9,\n",
       "   'globalId': '3708689d-f8a5-4a5a-9623-7e7076f1df10',\n",
       "   'success': True},\n",
       "  {'objectId': 10,\n",
       "   'uniqueId': 10,\n",
       "   'globalId': 'a9b2ec29-bd59-4c0d-80a8-9a76b1641db2',\n",
       "   'success': True},\n",
       "  {'objectId': 11,\n",
       "   'uniqueId': 11,\n",
       "   'globalId': '61dd0ce8-a898-44d7-9ade-9deaff43d551',\n",
       "   'success': True},\n",
       "  {'objectId': 12,\n",
       "   'uniqueId': 12,\n",
       "   'globalId': 'd455f670-0706-4879-95ea-6cbce40ecbd0',\n",
       "   'success': True},\n",
       "  {'objectId': 13,\n",
       "   'uniqueId': 13,\n",
       "   'globalId': 'e7166529-6dca-4e74-91fb-872537d9ab81',\n",
       "   'success': True},\n",
       "  {'objectId': 14,\n",
       "   'uniqueId': 14,\n",
       "   'globalId': '2372d2dc-3620-44d8-9d80-b3b1736acee5',\n",
       "   'success': True},\n",
       "  {'objectId': 15,\n",
       "   'uniqueId': 15,\n",
       "   'globalId': '49251278-d6d3-4808-a03e-d8453543de47',\n",
       "   'success': True},\n",
       "  {'objectId': 16,\n",
       "   'uniqueId': 16,\n",
       "   'globalId': 'cfadf691-da4a-46c2-8e07-4a63310ab3c7',\n",
       "   'success': True},\n",
       "  {'objectId': 17,\n",
       "   'uniqueId': 17,\n",
       "   'globalId': 'b4f8d1ce-6f16-4e4e-ad18-d9e8631096ab',\n",
       "   'success': True},\n",
       "  {'objectId': 18,\n",
       "   'uniqueId': 18,\n",
       "   'globalId': '46f6a396-794e-4584-bc19-2e6d6001f28e',\n",
       "   'success': True},\n",
       "  {'objectId': 19,\n",
       "   'uniqueId': 19,\n",
       "   'globalId': '40ba2cee-e159-456d-b878-89b171592bbf',\n",
       "   'success': True},\n",
       "  {'objectId': 20,\n",
       "   'uniqueId': 20,\n",
       "   'globalId': 'fa870d72-6c64-47a8-875a-8448ea298dc8',\n",
       "   'success': True},\n",
       "  {'objectId': 21,\n",
       "   'uniqueId': 21,\n",
       "   'globalId': '22e21d9d-9cb0-41ce-9b0f-def630f778e3',\n",
       "   'success': True},\n",
       "  {'objectId': 22,\n",
       "   'uniqueId': 22,\n",
       "   'globalId': '15a8d8a6-81b5-4c1a-852d-387f6d71dc42',\n",
       "   'success': True},\n",
       "  {'objectId': 23,\n",
       "   'uniqueId': 23,\n",
       "   'globalId': '8b2b9426-b0d2-4d82-b3ce-59e1df74bf7e',\n",
       "   'success': True},\n",
       "  {'objectId': 24,\n",
       "   'uniqueId': 24,\n",
       "   'globalId': '4f7ff65b-a1bf-4c9e-a9e2-f0b4894e2e69',\n",
       "   'success': True},\n",
       "  {'objectId': 25,\n",
       "   'uniqueId': 25,\n",
       "   'globalId': 'de57caf4-e25d-41dc-966e-5b23ea115d5c',\n",
       "   'success': True},\n",
       "  {'objectId': 26,\n",
       "   'uniqueId': 26,\n",
       "   'globalId': 'e5d8917e-1af1-4a63-81c5-f86f871cc14b',\n",
       "   'success': True},\n",
       "  {'objectId': 27,\n",
       "   'uniqueId': 27,\n",
       "   'globalId': 'eda1aad8-4a5d-4ec4-82c1-afec4a37b854',\n",
       "   'success': True},\n",
       "  {'objectId': 28,\n",
       "   'uniqueId': 28,\n",
       "   'globalId': 'e2c21fe0-10e5-40e9-bee2-a582b6ad80fb',\n",
       "   'success': True},\n",
       "  {'objectId': 29,\n",
       "   'uniqueId': 29,\n",
       "   'globalId': 'fd0055b7-0a3e-4f79-a07b-5ea64dc316be',\n",
       "   'success': True},\n",
       "  {'objectId': 30,\n",
       "   'uniqueId': 30,\n",
       "   'globalId': '8e9050d0-0049-4ba2-83e2-03021b9c1c7e',\n",
       "   'success': True},\n",
       "  {'objectId': 31,\n",
       "   'uniqueId': 31,\n",
       "   'globalId': '47d34fee-8def-4ad8-bea0-a127241b356d',\n",
       "   'success': True},\n",
       "  {'objectId': 32,\n",
       "   'uniqueId': 32,\n",
       "   'globalId': 'a46ccb91-0fa5-400a-952c-55fe929e9975',\n",
       "   'success': True},\n",
       "  {'objectId': 33,\n",
       "   'uniqueId': 33,\n",
       "   'globalId': '16178c0a-68ce-4866-827e-e48be3ce53a9',\n",
       "   'success': True},\n",
       "  {'objectId': 34,\n",
       "   'uniqueId': 34,\n",
       "   'globalId': '9e15dc42-5243-4eb0-8e17-05e0ff037abb',\n",
       "   'success': True},\n",
       "  {'objectId': 35,\n",
       "   'uniqueId': 35,\n",
       "   'globalId': '191a1098-c158-45c8-b446-b33170342beb',\n",
       "   'success': True},\n",
       "  {'objectId': 36,\n",
       "   'uniqueId': 36,\n",
       "   'globalId': '5e40ac4c-ef54-4492-b5e3-7c2ac8a04cfd',\n",
       "   'success': True},\n",
       "  {'objectId': 37,\n",
       "   'uniqueId': 37,\n",
       "   'globalId': 'e3da191c-6c84-4dd8-b816-e9c86bfaf33c',\n",
       "   'success': True},\n",
       "  {'objectId': 38,\n",
       "   'uniqueId': 38,\n",
       "   'globalId': '2af6e6de-7231-461b-aa9a-3785229eeeae',\n",
       "   'success': True},\n",
       "  {'objectId': 39,\n",
       "   'uniqueId': 39,\n",
       "   'globalId': 'a15cd5fb-6108-4b84-8772-9c83b4c0f053',\n",
       "   'success': True},\n",
       "  {'objectId': 40,\n",
       "   'uniqueId': 40,\n",
       "   'globalId': '5135b120-95d4-42a9-93eb-2c8a8c506ada',\n",
       "   'success': True},\n",
       "  {'objectId': 41,\n",
       "   'uniqueId': 41,\n",
       "   'globalId': '0826b99e-afd2-4d3b-b077-db9d003cb80b',\n",
       "   'success': True}],\n",
       " 'deleteResults': []}"
      ]
     },
     "execution_count": 43,
     "metadata": {},
     "output_type": "execute_result"
    }
   ],
   "source": [
    "lyr_points.edit_features(updates = fset_points.features)"
   ]
  },
  {
   "cell_type": "code",
   "execution_count": null,
   "metadata": {},
   "outputs": [],
   "source": []
  }
 ],
 "metadata": {
  "kernelspec": {
   "display_name": "Python 3",
   "language": "python",
   "name": "python3"
  },
  "language_info": {
   "codemirror_mode": {
    "name": "ipython",
    "version": 3
   },
   "file_extension": ".py",
   "mimetype": "text/x-python",
   "name": "python",
   "nbconvert_exporter": "python",
   "pygments_lexer": "ipython3",
   "version": "3.6.9"
  }
 },
 "nbformat": 4,
 "nbformat_minor": 2
}
