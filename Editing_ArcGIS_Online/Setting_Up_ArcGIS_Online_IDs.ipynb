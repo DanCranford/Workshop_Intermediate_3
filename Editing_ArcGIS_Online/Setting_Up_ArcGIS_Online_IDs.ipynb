{
 "cells": [
  {
   "cell_type": "markdown",
   "metadata": {},
   "source": [
    "# Editing ArcGIS Online Data\n",
    "\n",
    "Editing data in ArcGIS Online is a very in-demand process as more workflows are moving to the cloud.  While ArcGIS Online makes it much easier for multiple users to edit the same dataset by hand, it presents some problems for automation.  With desktop GIS and local datasets, you have pretty easy access to the table data via databases or shapefiles.  With ArcGIS Online, you only have access to the server.  This means that rather than directly edit the data, you have to interact with the server through the following steps:\n",
    " - query the target dataset creating a copy\n",
    " - modify your copy of the dataset\n",
    " - communicate your changes back to the server\n",
    " \n",
    "Let's suppose (for an example) that we have a project where we're collecting field data.  In this case, we'll use some dummy vegetation data.  Our field users want a useful way to identify their points and communicate to each other once they've collected their data.\n",
    " \n",
    "In desktop programs and databases, ArcGIS provides a special kind of field called an \"Auto-Incrementing ID\" field.  This helps end users communicate which feature they're talking about in a very human-friendly way."
   ]
  },
  {
   "cell_type": "code",
   "execution_count": null,
   "metadata": {},
   "outputs": [],
   "source": [
    "# input your specific username\n",
    "username = input('Username: ')\n",
    "\n",
    "import arcgis\n",
    "\n",
    "# set up a GIS object to store your login information and acccess our data.\n",
    "session_gis = arcgis.GIS('https://arcgis.com',username)"
   ]
  },
  {
   "cell_type": "code",
   "execution_count": 2,
   "metadata": {},
   "outputs": [
    {
     "data": {
      "text/html": [
       "<div class=\"item_container\" style=\"height: auto; overflow: hidden; border: 1px solid #cfcfcf; border-radius: 2px; background: #f6fafa; line-height: 1.21429em; padding: 10px;\">\n",
       "                    <div class=\"item_left\" style=\"width: 210px; float: left;\">\n",
       "                       <a href='https://sfbaygeo.maps.arcgis.com/home/item.html?id=11f10170934c413c8db8a40563ed9a4a' target='_blank'>\n",
       "                        <img src='data:image/png;base64,iVBORw0KGgoAAAANSUhEUgAAAMgAAACFCAYAAAAenrcsAAABGUlEQVR42u3TAQ0AAAzCMPybBgU38LQSliwFTpEADAIGAYOAQcAgYBAwCBgEDAIYBAwCBgGDgEHAIGAQMAgYBAwCGAQMAgYBg4BBwCBgEDAIGAQwCBgEDAIGAYOAQcAgYBAwCBgEMAgYBAwCBgGDgEHAIGAQMAhgEDAIGAQMAgYBg4BBwCBgEDAIYBAwCBgEDAIGAYOAQcAgYBDAIGAQMAgYBAwCBgGDgEHAIGAQwCBgEDAIGAQMAgYBg4BBwCBgEAnAIGAQMAgYBAwCBgGDgEHAIIBBwCBgEDAIGAQMAgYBg4BBwCCAQcAgYBAwCBgEDAIGAYOAQQCDgEHAIGAQMAgYBAwCBgGDgEEAg4BBwCBgEDAIGAQMAu8MNFIYo2feTFIAAAAASUVORK5CYII=' width='200' height='133' class=\"itemThumbnail\">\n",
       "                       </a>\n",
       "                    </div>\n",
       "\n",
       "                    <div class=\"item_right\"     style=\"float: none; width: auto; overflow: hidden;\">\n",
       "                        <a href='https://sfbaygeo.maps.arcgis.com/home/item.html?id=11f10170934c413c8db8a40563ed9a4a' target='_blank'><b>Demo_Vegetation_Data_Base</b>\n",
       "                        </a>\n",
       "                        <br/><img src='https://sfbaygeo.maps.arcgis.com/home/js/jsapi/esri/css/images/item_type_icons/featureshosted16.png' style=\"vertical-align:middle;\">Feature Layer Collection by dancranford\n",
       "                        <br/>Last Modified: April 27, 2020\n",
       "                        <br/>0 comments, 27 views\n",
       "                    </div>\n",
       "                </div>\n",
       "                "
      ],
      "text/plain": [
       "<Item title:\"Demo_Vegetation_Data_Base\" type:Feature Layer Collection owner:dancranford>"
      ]
     },
     "execution_count": 2,
     "metadata": {},
     "output_type": "execute_result"
    }
   ],
   "source": [
    "# item containing our vegetation data to edit\n",
    "item_to_edit = arcgis.gis.Item(session_gis, '11f10170934c413c8db8a40563ed9a4a')\n",
    "item_to_edit"
   ]
  },
  {
   "cell_type": "code",
   "execution_count": 4,
   "metadata": {},
   "outputs": [
    {
     "name": "stdout",
     "output_type": "stream",
     "text": [
      "0 Point layer\n",
      "1 Polygon layer\n"
     ]
    }
   ],
   "source": [
    "# let's look for a point layer\n",
    "all_layers = item_to_edit.layers\n",
    "\n",
    "for i, layer in enumerate(all_layers):\n",
    "    print(i, layer.properties.name)"
   ]
  },
  {
   "cell_type": "code",
   "execution_count": 5,
   "metadata": {},
   "outputs": [],
   "source": [
    "# We'll be focusing on the point layer for the time being.\n",
    "lyr_points = all_layers[0]"
   ]
  },
  {
   "cell_type": "markdown",
   "metadata": {},
   "source": []
  }
 ],
 "metadata": {
  "kernelspec": {
   "display_name": "Python 3",
   "language": "python",
   "name": "python3"
  },
  "language_info": {
   "codemirror_mode": {
    "name": "ipython",
    "version": 3
   },
   "file_extension": ".py",
   "mimetype": "text/x-python",
   "name": "python",
   "nbconvert_exporter": "python",
   "pygments_lexer": "ipython3",
   "version": "3.6.9"
  }
 },
 "nbformat": 4,
 "nbformat_minor": 2
}
