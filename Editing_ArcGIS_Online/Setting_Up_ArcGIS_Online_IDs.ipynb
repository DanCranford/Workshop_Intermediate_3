{
 "cells": [
  {
   "cell_type": "markdown",
   "metadata": {},
   "source": [
    "# Editing ArcGIS Online Data\n",
    "\n",
    "Editing data in ArcGIS Online is a very in-demand process as more workflows are moving to the cloud.  While ArcGIS Online makes it much easier for multiple users to edit the same dataset by hand, it presents some problems for automation.  With desktop GIS and local datasets, you have pretty easy access to the table data via databases or shapefiles.  With ArcGIS Online, you only have access to the server.  This means that rather than directly edit the data, you have to interact with the server through the following steps:\n",
    " - query the target dataset creating a copy\n",
    " - modify your copy of the dataset\n",
    " - communicate your changes back to the server\n",
    " \n",
    "Let's suppose (for an example) that we have a project where we're collecting field data.  In this case, we'll use some dummy vegetation data.  Our field users want a useful way to identify their points and communicate to each other once they've collected their data.\n",
    " \n",
    "In desktop programs and databases, ArcGIS provides a special kind of field called an \"Auto-Incrementing ID\" field.  This helps end users communicate which feature they're talking about in a very human-friendly way.  A lot of data analysts really like this idea, but ArcGIS Online doesn't do that for us.  If we want it, we'll have to do it ourselves."
   ]
  },
  {
   "cell_type": "code",
   "execution_count": null,
   "metadata": {},
   "outputs": [],
   "source": [
    "# input your specific username\n",
    "username = input('Username: ')\n",
    "\n",
    "import arcgis\n",
    "\n",
    "# set up a GIS object to store your login information and acccess our data.\n",
    "session_gis = arcgis.GIS('https://arcgis.com',username)"
   ]
  },
  {
   "cell_type": "code",
   "execution_count": 3,
   "metadata": {},
   "outputs": [
    {
     "data": {
      "text/html": [
       "<div class=\"item_container\" style=\"height: auto; overflow: hidden; border: 1px solid #cfcfcf; border-radius: 2px; background: #f6fafa; line-height: 1.21429em; padding: 10px;\">\n",
       "                    <div class=\"item_left\" style=\"width: 210px; float: left;\">\n",
       "                       <a href='https://sfbaygeo.maps.arcgis.com/home/item.html?id=11f10170934c413c8db8a40563ed9a4a' target='_blank'>\n",
       "                        <img src='data:image/png;base64,iVBORw0KGgoAAAANSUhEUgAAAMgAAACFCAYAAAAenrcsAAABGUlEQVR42u3TAQ0AAAzCMPybBgU38LQSliwFTpEADAIGAYOAQcAgYBAwCBgEDAIYBAwCBgGDgEHAIGAQMAgYBAwCGAQMAgYBg4BBwCBgEDAIGAQwCBgEDAIGAYOAQcAgYBAwCBgEMAgYBAwCBgGDgEHAIGAQMAhgEDAIGAQMAgYBg4BBwCBgEDAIYBAwCBgEDAIGAYOAQcAgYBDAIGAQMAgYBAwCBgGDgEHAIGAQwCBgEDAIGAQMAgYBg4BBwCBgEAnAIGAQMAgYBAwCBgGDgEHAIIBBwCBgEDAIGAQMAgYBg4BBwCCAQcAgYBAwCBgEDAIGAYOAQQCDgEHAIGAQMAgYBAwCBgGDgEEAg4BBwCBgEDAIGAQMAu8MNFIYo2feTFIAAAAASUVORK5CYII=' width='200' height='133' class=\"itemThumbnail\">\n",
       "                       </a>\n",
       "                    </div>\n",
       "\n",
       "                    <div class=\"item_right\"     style=\"float: none; width: auto; overflow: hidden;\">\n",
       "                        <a href='https://sfbaygeo.maps.arcgis.com/home/item.html?id=11f10170934c413c8db8a40563ed9a4a' target='_blank'><b>Demo_Vegetation_Data_Base</b>\n",
       "                        </a>\n",
       "                        <br/><img src='https://sfbaygeo.maps.arcgis.com/home/js/jsapi/esri/css/images/item_type_icons/featureshosted16.png' style=\"vertical-align:middle;\">Feature Layer Collection by dancranford\n",
       "                        <br/>Last Modified: April 27, 2020\n",
       "                        <br/>0 comments, 27 views\n",
       "                    </div>\n",
       "                </div>\n",
       "                "
      ],
      "text/plain": [
       "<Item title:\"Demo_Vegetation_Data_Base\" type:Feature Layer Collection owner:dancranford>"
      ]
     },
     "execution_count": 3,
     "metadata": {},
     "output_type": "execute_result"
    }
   ],
   "source": [
    "# item containing our vegetation data to edit\n",
    "item_to_edit = arcgis.gis.Item(session_gis, '11f10170934c413c8db8a40563ed9a4a')\n",
    "item_to_edit"
   ]
  },
  {
   "cell_type": "code",
   "execution_count": 4,
   "metadata": {},
   "outputs": [
    {
     "name": "stdout",
     "output_type": "stream",
     "text": [
      "0 Point layer\n",
      "1 Polygon layer\n"
     ]
    }
   ],
   "source": [
    "# let's look for a point layer\n",
    "all_layers = item_to_edit.layers\n",
    "\n",
    "for i, layer in enumerate(all_layers):\n",
    "    print(i, layer.properties.name)"
   ]
  },
  {
   "cell_type": "code",
   "execution_count": 5,
   "metadata": {},
   "outputs": [],
   "source": [
    "# We'll be focusing on the point layer for the time being.\n",
    "lyr_points = all_layers[0]"
   ]
  },
  {
   "cell_type": "markdown",
   "metadata": {},
   "source": [
    "Now let's take a look at the structure of our feature layer."
   ]
  },
  {
   "cell_type": "code",
   "execution_count": 6,
   "metadata": {},
   "outputs": [
    {
     "data": {
      "text/html": [
       "<div>\n",
       "<style scoped>\n",
       "    .dataframe tbody tr th:only-of-type {\n",
       "        vertical-align: middle;\n",
       "    }\n",
       "\n",
       "    .dataframe tbody tr th {\n",
       "        vertical-align: top;\n",
       "    }\n",
       "\n",
       "    .dataframe thead th {\n",
       "        text-align: right;\n",
       "    }\n",
       "</style>\n",
       "<table border=\"1\" class=\"dataframe\">\n",
       "  <thead>\n",
       "    <tr style=\"text-align: right;\">\n",
       "      <th></th>\n",
       "      <th>OBJECTID</th>\n",
       "      <th>GlobalID</th>\n",
       "      <th>CreationDate</th>\n",
       "      <th>Creator</th>\n",
       "      <th>EditDate</th>\n",
       "      <th>Editor</th>\n",
       "      <th>VTYPE</th>\n",
       "      <th>SPECIES</th>\n",
       "      <th>DIAMETER</th>\n",
       "      <th>HEIGHT</th>\n",
       "      <th>AUTO_ID</th>\n",
       "      <th>COUNTY</th>\n",
       "      <th>STATUS</th>\n",
       "      <th>TW_STATUS</th>\n",
       "    </tr>\n",
       "  </thead>\n",
       "  <tbody>\n",
       "    <tr>\n",
       "      <td>0</td>\n",
       "      <td>1</td>\n",
       "      <td>408b9cc9-a9a1-400c-804d-e6f8b617d611</td>\n",
       "      <td>2019-02-26 03:11:55.551000118</td>\n",
       "      <td>dancranford</td>\n",
       "      <td>2020-04-28 13:09:42.109999895</td>\n",
       "      <td>DaveC_BayGeo</td>\n",
       "      <td>Brush</td>\n",
       "      <td>None</td>\n",
       "      <td>NaN</td>\n",
       "      <td>NaN</td>\n",
       "      <td>None</td>\n",
       "      <td>Alameda</td>\n",
       "      <td>Work Prescribed</td>\n",
       "      <td>Assigned</td>\n",
       "    </tr>\n",
       "    <tr>\n",
       "      <td>1</td>\n",
       "      <td>2</td>\n",
       "      <td>95a4cc36-a2a8-40de-8809-cd0669322012</td>\n",
       "      <td>2019-02-26 03:12:26.028000116</td>\n",
       "      <td>dancranford</td>\n",
       "      <td>2020-04-28 13:09:42.109999895</td>\n",
       "      <td>DaveC_BayGeo</td>\n",
       "      <td>Tree</td>\n",
       "      <td>None</td>\n",
       "      <td>NaN</td>\n",
       "      <td>NaN</td>\n",
       "      <td>None</td>\n",
       "      <td>Alameda</td>\n",
       "      <td>Complete</td>\n",
       "      <td>Completed</td>\n",
       "    </tr>\n",
       "    <tr>\n",
       "      <td>2</td>\n",
       "      <td>3</td>\n",
       "      <td>397a9495-788c-42cb-84c0-aacf7ceef8db</td>\n",
       "      <td>2019-02-26 03:13:02.457999945</td>\n",
       "      <td>dancranford</td>\n",
       "      <td>2020-04-28 13:09:42.109999895</td>\n",
       "      <td>DaveC_BayGeo</td>\n",
       "      <td>Tree</td>\n",
       "      <td>None</td>\n",
       "      <td>NaN</td>\n",
       "      <td>NaN</td>\n",
       "      <td>None</td>\n",
       "      <td>Alameda</td>\n",
       "      <td>Work Prescribed</td>\n",
       "      <td>Unassigned</td>\n",
       "    </tr>\n",
       "    <tr>\n",
       "      <td>3</td>\n",
       "      <td>4</td>\n",
       "      <td>cc8409e3-c5a0-42c3-978b-253c216a165f</td>\n",
       "      <td>2019-03-07 03:33:42.572000027</td>\n",
       "      <td>dancranford</td>\n",
       "      <td>2020-04-28 13:09:42.109999895</td>\n",
       "      <td>DaveC_BayGeo</td>\n",
       "      <td>Brush</td>\n",
       "      <td>None</td>\n",
       "      <td>NaN</td>\n",
       "      <td>NaN</td>\n",
       "      <td>None</td>\n",
       "      <td>Riverside</td>\n",
       "      <td>Work Prescribed</td>\n",
       "      <td>Completed</td>\n",
       "    </tr>\n",
       "    <tr>\n",
       "      <td>4</td>\n",
       "      <td>5</td>\n",
       "      <td>0660960c-3d81-49a9-8085-d2348dad0a99</td>\n",
       "      <td>2019-03-07 03:38:25.000000000</td>\n",
       "      <td>dancranford</td>\n",
       "      <td>2020-04-28 13:09:42.109999895</td>\n",
       "      <td>DaveC_BayGeo</td>\n",
       "      <td>Tree</td>\n",
       "      <td>None</td>\n",
       "      <td>NaN</td>\n",
       "      <td>NaN</td>\n",
       "      <td>None</td>\n",
       "      <td>Riverside</td>\n",
       "      <td>Inventory</td>\n",
       "      <td>Assigned</td>\n",
       "    </tr>\n",
       "  </tbody>\n",
       "</table>\n",
       "</div>"
      ],
      "text/plain": [
       "   OBJECTID                              GlobalID  \\\n",
       "0         1  408b9cc9-a9a1-400c-804d-e6f8b617d611   \n",
       "1         2  95a4cc36-a2a8-40de-8809-cd0669322012   \n",
       "2         3  397a9495-788c-42cb-84c0-aacf7ceef8db   \n",
       "3         4  cc8409e3-c5a0-42c3-978b-253c216a165f   \n",
       "4         5  0660960c-3d81-49a9-8085-d2348dad0a99   \n",
       "\n",
       "                   CreationDate      Creator                      EditDate  \\\n",
       "0 2019-02-26 03:11:55.551000118  dancranford 2020-04-28 13:09:42.109999895   \n",
       "1 2019-02-26 03:12:26.028000116  dancranford 2020-04-28 13:09:42.109999895   \n",
       "2 2019-02-26 03:13:02.457999945  dancranford 2020-04-28 13:09:42.109999895   \n",
       "3 2019-03-07 03:33:42.572000027  dancranford 2020-04-28 13:09:42.109999895   \n",
       "4 2019-03-07 03:38:25.000000000  dancranford 2020-04-28 13:09:42.109999895   \n",
       "\n",
       "         Editor  VTYPE SPECIES  DIAMETER  HEIGHT AUTO_ID     COUNTY  \\\n",
       "0  DaveC_BayGeo  Brush    None       NaN     NaN    None    Alameda   \n",
       "1  DaveC_BayGeo   Tree    None       NaN     NaN    None    Alameda   \n",
       "2  DaveC_BayGeo   Tree    None       NaN     NaN    None    Alameda   \n",
       "3  DaveC_BayGeo  Brush    None       NaN     NaN    None  Riverside   \n",
       "4  DaveC_BayGeo   Tree    None       NaN     NaN    None  Riverside   \n",
       "\n",
       "            STATUS   TW_STATUS  \n",
       "0  Work Prescribed    Assigned  \n",
       "1         Complete   Completed  \n",
       "2  Work Prescribed  Unassigned  \n",
       "3  Work Prescribed   Completed  \n",
       "4        Inventory    Assigned  "
      ]
     },
     "execution_count": 6,
     "metadata": {},
     "output_type": "execute_result"
    }
   ],
   "source": [
    "df_points = lyr_points.query(as_df=True, return_geometry=False)\n",
    "df_points.head()"
   ]
  },
  {
   "cell_type": "code",
   "execution_count": 25,
   "metadata": {},
   "outputs": [
    {
     "data": {
      "text/plain": [
       "{'success': True, 'updatedFeatureCount': 8}"
      ]
     },
     "execution_count": 25,
     "metadata": {},
     "output_type": "execute_result"
    }
   ],
   "source": [
    "# Reset all the values in the AUTO_ID field.\n",
    "lyr_points.calculate(where='1=1', calc_expression = {'field': 'AUTO_ID', 'value': None})"
   ]
  },
  {
   "cell_type": "markdown",
   "metadata": {},
   "source": [
    "Now for this case, we'll assume that we're being asked to do something simple.  We just may just want to format the ID string with a short identifier, then an incrementing number.  In this case, we'll use the format **ID_00001** and increase from there.\n",
    "\n",
    "So if we think about how we might construct a string in this format that's different for each feature, the first thing we might break it out into the following steps:\n",
    " - write a function to turn a number into a formatted string ID\n",
    " - set up some logic to make a unique number for each feature\n",
    " - apply our function and unique number to each feature\n",
    " \n",
    "We'll start by writing a function for the string formatting."
   ]
  },
  {
   "cell_type": "markdown",
   "metadata": {},
   "source": [
    "## Formatting our IDs\n",
    "\n",
    "Let's use what we already know about strings to insert a number into a pre-formatted string."
   ]
  },
  {
   "cell_type": "code",
   "execution_count": 14,
   "metadata": {
    "scrolled": true
   },
   "outputs": [
    {
     "name": "stdout",
     "output_type": "stream",
     "text": [
      "ID_1\n",
      "ID_00001\n",
      "ID_000010\n"
     ]
    }
   ],
   "source": [
    "print(\"ID_{}\".format(1))\n",
    "print(\"ID_0000{}\".format(1))\n",
    "print(\"ID_0000{}\".format(10))"
   ]
  },
  {
   "cell_type": "markdown",
   "metadata": {},
   "source": [
    "#### Quick note - .zfill() method\n",
    "\n",
    "https://www.w3schools.com/python/ref_string_zfill.asp\n",
    "\n",
    "The .zfill() method is a super handy method for strings that will add leading zeroes.  It'll make sure all our IDs are the same length.  It'll make them look nice."
   ]
  },
  {
   "cell_type": "code",
   "execution_count": 16,
   "metadata": {},
   "outputs": [
    {
     "name": "stdout",
     "output_type": "stream",
     "text": [
      "ID_00001\n",
      "ID_00011\n",
      "ID_00199\n"
     ]
    }
   ],
   "source": [
    "#note here that we have to cast our int numbers into strings\n",
    "\n",
    "print(\"ID_{}\".format(\"1\".zfill(5)))\n",
    "print(\"ID_{}\".format(\"11\".zfill(5)))\n",
    "print(\"ID_{}\".format(\"199\".zfill(5)))"
   ]
  },
  {
   "cell_type": "code",
   "execution_count": 9,
   "metadata": {},
   "outputs": [],
   "source": [
    "def format_id(num):\n",
    "    #change the number to a string\n",
    "    str_num = str(num)\n",
    "    # build an ID using .zfill() to pad our number\n",
    "    new_id = \"ID_{}\".format(str_num.zfill(5))\n",
    "    return new_id"
   ]
  },
  {
   "cell_type": "code",
   "execution_count": 10,
   "metadata": {},
   "outputs": [
    {
     "data": {
      "text/plain": [
       "'ID_00005'"
      ]
     },
     "execution_count": 10,
     "metadata": {},
     "output_type": "execute_result"
    }
   ],
   "source": [
    "format_id(5)"
   ]
  },
  {
   "cell_type": "markdown",
   "metadata": {},
   "source": [
    "## Iterating through multiple IDs\n",
    "\n",
    "Now that we have some logic that accepts an integer as an input and gives us back a formatted ID, let's see how we can make these IDs unique.\n",
    "\n",
    "We'll use a for loop to generate a new ID for each feature then count up for each feature."
   ]
  },
  {
   "cell_type": "code",
   "execution_count": 17,
   "metadata": {},
   "outputs": [
    {
     "name": "stdout",
     "output_type": "stream",
     "text": [
      "ID_00001\n",
      "ID_00002\n",
      "ID_00003\n",
      "ID_00004\n",
      "ID_00005\n",
      "ID_00006\n",
      "ID_00007\n",
      "ID_00008\n",
      "ID_00009\n",
      "ID_00010\n",
      "ID_00011\n",
      "ID_00012\n",
      "ID_00013\n",
      "ID_00014\n",
      "ID_00015\n",
      "ID_00016\n",
      "ID_00017\n",
      "ID_00018\n",
      "ID_00019\n"
     ]
    }
   ],
   "source": [
    "# start at 1\n",
    "counter = 1\n",
    "\n",
    "while counter < 20:\n",
    "    # call our function for IDs\n",
    "    print(format_id(counter))\n",
    "    \n",
    "    # increase the counter\n",
    "    counter += 1\n",
    "    \n",
    "#make sure you increase the counter.  This is an easy mistake that can lead to an infinite loop :)"
   ]
  },
  {
   "cell_type": "markdown",
   "metadata": {},
   "source": [
    "## Apply this logic to our features\n",
    "\n",
    "Now that we've built our IDs and we have set up some logic to create them and increment them up with each feature, let's apply this to our ArcGIS Online features.\n",
    "\n",
    "First we'll query the layer and receive a **FeatureSet** from the server<br>\n",
    "https://developers.arcgis.com/python/api-reference/arcgis.features.toc.html#featureset\n",
    "\n",
    "Then we'll modify the **Feature** objects contained in that **FeatureSet**<br>\n",
    "https://developers.arcgis.com/python/api-reference/arcgis.features.toc.html#arcgis.features.Feature"
   ]
  },
  {
   "cell_type": "code",
   "execution_count": 18,
   "metadata": {},
   "outputs": [],
   "source": [
    "# query our feature layer to get a FeatureSet object\n",
    "fset_points = lyr_points.query(return_geometry=False)"
   ]
  },
  {
   "cell_type": "code",
   "execution_count": 19,
   "metadata": {},
   "outputs": [
    {
     "data": {
      "text/plain": [
       "{\"attributes\": {\"OBJECTID\": 1, \"GlobalID\": \"408b9cc9-a9a1-400c-804d-e6f8b617d611\", \"CreationDate\": 1551150715551, \"Creator\": \"dancranford\", \"EditDate\": 1588079869200, \"Editor\": \"DaveC_BayGeo\", \"VTYPE\": \"Brush\", \"SPECIES\": null, \"DIAMETER\": null, \"HEIGHT\": null, \"AUTO_ID\": null, \"COUNTY\": \"Alameda\", \"STATUS\": \"Work Prescribed\", \"TW_STATUS\": \"Assigned\"}}"
      ]
     },
     "execution_count": 19,
     "metadata": {},
     "output_type": "execute_result"
    }
   ],
   "source": [
    "# grab one feature to test\n",
    "test_feature = fset_points.features[0]\n",
    "test_feature"
   ]
  },
  {
   "cell_type": "code",
   "execution_count": 20,
   "metadata": {},
   "outputs": [
    {
     "data": {
      "text/plain": [
       "'ID_00001'"
      ]
     },
     "execution_count": 20,
     "metadata": {},
     "output_type": "execute_result"
    }
   ],
   "source": [
    "# format an ID to insert into that feature\n",
    "id_1 = format_id(1)\n",
    "id_1"
   ]
  },
  {
   "cell_type": "code",
   "execution_count": 21,
   "metadata": {},
   "outputs": [
    {
     "data": {
      "text/plain": [
       "{\"attributes\": {\"OBJECTID\": 1, \"GlobalID\": \"408b9cc9-a9a1-400c-804d-e6f8b617d611\", \"CreationDate\": 1551150715551, \"Creator\": \"dancranford\", \"EditDate\": 1588079869200, \"Editor\": \"DaveC_BayGeo\", \"VTYPE\": \"Brush\", \"SPECIES\": null, \"DIAMETER\": null, \"HEIGHT\": null, \"AUTO_ID\": \"ID_00001\", \"COUNTY\": \"Alameda\", \"STATUS\": \"Work Prescribed\", \"TW_STATUS\": \"Assigned\"}}"
      ]
     },
     "execution_count": 21,
     "metadata": {},
     "output_type": "execute_result"
    }
   ],
   "source": [
    "# insert our new ID into our feature\n",
    "test_feature.set_value('AUTO_ID', id_1)\n",
    "test_feature"
   ]
  },
  {
   "cell_type": "markdown",
   "metadata": {},
   "source": [
    "Now that we know that works, let's do the same to all our features."
   ]
  },
  {
   "cell_type": "code",
   "execution_count": 22,
   "metadata": {},
   "outputs": [],
   "source": [
    "# start with 1\n",
    "counter = 1\n",
    "\n",
    "for feature in fset_points.features:\n",
    "    # create a new id with the counter\n",
    "    new_id = format_id(counter)\n",
    "    \n",
    "    # insert the new id into a feature\n",
    "    feature.set_value('AUTO_ID', new_id)\n",
    "    \n",
    "    # increase the counter (so we don't have duplicates)\n",
    "    counter += 1\n",
    "    "
   ]
  },
  {
   "cell_type": "code",
   "execution_count": 23,
   "metadata": {},
   "outputs": [
    {
     "data": {
      "text/html": [
       "<div>\n",
       "<style scoped>\n",
       "    .dataframe tbody tr th:only-of-type {\n",
       "        vertical-align: middle;\n",
       "    }\n",
       "\n",
       "    .dataframe tbody tr th {\n",
       "        vertical-align: top;\n",
       "    }\n",
       "\n",
       "    .dataframe thead th {\n",
       "        text-align: right;\n",
       "    }\n",
       "</style>\n",
       "<table border=\"1\" class=\"dataframe\">\n",
       "  <thead>\n",
       "    <tr style=\"text-align: right;\">\n",
       "      <th></th>\n",
       "      <th>OBJECTID</th>\n",
       "      <th>GlobalID</th>\n",
       "      <th>CreationDate</th>\n",
       "      <th>Creator</th>\n",
       "      <th>EditDate</th>\n",
       "      <th>Editor</th>\n",
       "      <th>VTYPE</th>\n",
       "      <th>SPECIES</th>\n",
       "      <th>DIAMETER</th>\n",
       "      <th>HEIGHT</th>\n",
       "      <th>AUTO_ID</th>\n",
       "      <th>COUNTY</th>\n",
       "      <th>STATUS</th>\n",
       "      <th>TW_STATUS</th>\n",
       "    </tr>\n",
       "  </thead>\n",
       "  <tbody>\n",
       "    <tr>\n",
       "      <td>0</td>\n",
       "      <td>1</td>\n",
       "      <td>408b9cc9-a9a1-400c-804d-e6f8b617d611</td>\n",
       "      <td>2019-02-26 03:11:55.551000118</td>\n",
       "      <td>dancranford</td>\n",
       "      <td>2020-04-28 13:17:49.200000048</td>\n",
       "      <td>DaveC_BayGeo</td>\n",
       "      <td>Brush</td>\n",
       "      <td>None</td>\n",
       "      <td>NaN</td>\n",
       "      <td>NaN</td>\n",
       "      <td>ID_00001</td>\n",
       "      <td>Alameda</td>\n",
       "      <td>Work Prescribed</td>\n",
       "      <td>Assigned</td>\n",
       "    </tr>\n",
       "    <tr>\n",
       "      <td>1</td>\n",
       "      <td>2</td>\n",
       "      <td>95a4cc36-a2a8-40de-8809-cd0669322012</td>\n",
       "      <td>2019-02-26 03:12:26.028000116</td>\n",
       "      <td>dancranford</td>\n",
       "      <td>2020-04-28 13:17:49.200000048</td>\n",
       "      <td>DaveC_BayGeo</td>\n",
       "      <td>Tree</td>\n",
       "      <td>None</td>\n",
       "      <td>NaN</td>\n",
       "      <td>NaN</td>\n",
       "      <td>ID_00002</td>\n",
       "      <td>Alameda</td>\n",
       "      <td>Complete</td>\n",
       "      <td>Completed</td>\n",
       "    </tr>\n",
       "    <tr>\n",
       "      <td>2</td>\n",
       "      <td>3</td>\n",
       "      <td>397a9495-788c-42cb-84c0-aacf7ceef8db</td>\n",
       "      <td>2019-02-26 03:13:02.457999945</td>\n",
       "      <td>dancranford</td>\n",
       "      <td>2020-04-28 13:17:49.200000048</td>\n",
       "      <td>DaveC_BayGeo</td>\n",
       "      <td>Tree</td>\n",
       "      <td>None</td>\n",
       "      <td>NaN</td>\n",
       "      <td>NaN</td>\n",
       "      <td>ID_00003</td>\n",
       "      <td>Alameda</td>\n",
       "      <td>Work Prescribed</td>\n",
       "      <td>Unassigned</td>\n",
       "    </tr>\n",
       "    <tr>\n",
       "      <td>3</td>\n",
       "      <td>4</td>\n",
       "      <td>cc8409e3-c5a0-42c3-978b-253c216a165f</td>\n",
       "      <td>2019-03-07 03:33:42.572000027</td>\n",
       "      <td>dancranford</td>\n",
       "      <td>2020-04-28 13:17:49.200000048</td>\n",
       "      <td>DaveC_BayGeo</td>\n",
       "      <td>Brush</td>\n",
       "      <td>None</td>\n",
       "      <td>NaN</td>\n",
       "      <td>NaN</td>\n",
       "      <td>ID_00004</td>\n",
       "      <td>Riverside</td>\n",
       "      <td>Work Prescribed</td>\n",
       "      <td>Completed</td>\n",
       "    </tr>\n",
       "    <tr>\n",
       "      <td>4</td>\n",
       "      <td>5</td>\n",
       "      <td>0660960c-3d81-49a9-8085-d2348dad0a99</td>\n",
       "      <td>2019-03-07 03:38:25.000000000</td>\n",
       "      <td>dancranford</td>\n",
       "      <td>2020-04-28 13:17:49.200000048</td>\n",
       "      <td>DaveC_BayGeo</td>\n",
       "      <td>Tree</td>\n",
       "      <td>None</td>\n",
       "      <td>NaN</td>\n",
       "      <td>NaN</td>\n",
       "      <td>ID_00005</td>\n",
       "      <td>Riverside</td>\n",
       "      <td>Inventory</td>\n",
       "      <td>Assigned</td>\n",
       "    </tr>\n",
       "  </tbody>\n",
       "</table>\n",
       "</div>"
      ],
      "text/plain": [
       "   OBJECTID                              GlobalID  \\\n",
       "0         1  408b9cc9-a9a1-400c-804d-e6f8b617d611   \n",
       "1         2  95a4cc36-a2a8-40de-8809-cd0669322012   \n",
       "2         3  397a9495-788c-42cb-84c0-aacf7ceef8db   \n",
       "3         4  cc8409e3-c5a0-42c3-978b-253c216a165f   \n",
       "4         5  0660960c-3d81-49a9-8085-d2348dad0a99   \n",
       "\n",
       "                   CreationDate      Creator                      EditDate  \\\n",
       "0 2019-02-26 03:11:55.551000118  dancranford 2020-04-28 13:17:49.200000048   \n",
       "1 2019-02-26 03:12:26.028000116  dancranford 2020-04-28 13:17:49.200000048   \n",
       "2 2019-02-26 03:13:02.457999945  dancranford 2020-04-28 13:17:49.200000048   \n",
       "3 2019-03-07 03:33:42.572000027  dancranford 2020-04-28 13:17:49.200000048   \n",
       "4 2019-03-07 03:38:25.000000000  dancranford 2020-04-28 13:17:49.200000048   \n",
       "\n",
       "         Editor  VTYPE SPECIES  DIAMETER  HEIGHT   AUTO_ID     COUNTY  \\\n",
       "0  DaveC_BayGeo  Brush    None       NaN     NaN  ID_00001    Alameda   \n",
       "1  DaveC_BayGeo   Tree    None       NaN     NaN  ID_00002    Alameda   \n",
       "2  DaveC_BayGeo   Tree    None       NaN     NaN  ID_00003    Alameda   \n",
       "3  DaveC_BayGeo  Brush    None       NaN     NaN  ID_00004  Riverside   \n",
       "4  DaveC_BayGeo   Tree    None       NaN     NaN  ID_00005  Riverside   \n",
       "\n",
       "            STATUS   TW_STATUS  \n",
       "0  Work Prescribed    Assigned  \n",
       "1         Complete   Completed  \n",
       "2  Work Prescribed  Unassigned  \n",
       "3  Work Prescribed   Completed  \n",
       "4        Inventory    Assigned  "
      ]
     },
     "execution_count": 23,
     "metadata": {},
     "output_type": "execute_result"
    }
   ],
   "source": [
    "# converting our featureset to DataFrame to check it out is a good way to see what's going on.\n",
    "fset_points.sdf.head()"
   ]
  },
  {
   "cell_type": "markdown",
   "metadata": {},
   "source": [
    "## Pushing Our Edits back to the Server\n",
    "\n",
    "Now that we've modified our copies of the features, it's time to send this information back to the server.  The way that ArcGIS Online receives our edits is in the form of features.  It will use the OBJECTID or the GlobalID from our feature to figure out which of its own features our edits correspond with.\n",
    "\n",
    "https://developers.arcgis.com/python/api-reference/arcgis.features.toc.html#arcgis.features.FeatureLayer.edit_features"
   ]
  },
  {
   "cell_type": "code",
   "execution_count": 24,
   "metadata": {},
   "outputs": [
    {
     "data": {
      "text/plain": [
       "{'addResults': [],\n",
       " 'updateResults': [{'objectId': 1,\n",
       "   'uniqueId': 1,\n",
       "   'globalId': '408b9cc9-a9a1-400c-804d-e6f8b617d611',\n",
       "   'success': True},\n",
       "  {'objectId': 2,\n",
       "   'uniqueId': 2,\n",
       "   'globalId': '95a4cc36-a2a8-40de-8809-cd0669322012',\n",
       "   'success': True},\n",
       "  {'objectId': 3,\n",
       "   'uniqueId': 3,\n",
       "   'globalId': '397a9495-788c-42cb-84c0-aacf7ceef8db',\n",
       "   'success': True},\n",
       "  {'objectId': 4,\n",
       "   'uniqueId': 4,\n",
       "   'globalId': 'cc8409e3-c5a0-42c3-978b-253c216a165f',\n",
       "   'success': True},\n",
       "  {'objectId': 5,\n",
       "   'uniqueId': 5,\n",
       "   'globalId': '0660960c-3d81-49a9-8085-d2348dad0a99',\n",
       "   'success': True},\n",
       "  {'objectId': 6,\n",
       "   'uniqueId': 6,\n",
       "   'globalId': '3bac3885-7d48-475a-9945-69ea4a7fadb0',\n",
       "   'success': True},\n",
       "  {'objectId': 7,\n",
       "   'uniqueId': 7,\n",
       "   'globalId': '71bfee7f-68c9-4ddd-b23d-285e28b3811b',\n",
       "   'success': True},\n",
       "  {'objectId': 8,\n",
       "   'uniqueId': 8,\n",
       "   'globalId': '9d7e752a-8183-4147-a0d4-2bc6d186d206',\n",
       "   'success': True}],\n",
       " 'deleteResults': []}"
      ]
     },
     "execution_count": 24,
     "metadata": {},
     "output_type": "execute_result"
    }
   ],
   "source": [
    "lyr_points.edit_features(updates = fset_points.features)"
   ]
  },
  {
   "cell_type": "code",
   "execution_count": null,
   "metadata": {},
   "outputs": [],
   "source": []
  }
 ],
 "metadata": {
  "kernelspec": {
   "display_name": "Python 3",
   "language": "python",
   "name": "python3"
  },
  "language_info": {
   "codemirror_mode": {
    "name": "ipython",
    "version": 3
   },
   "file_extension": ".py",
   "mimetype": "text/x-python",
   "name": "python",
   "nbconvert_exporter": "python",
   "pygments_lexer": "ipython3",
   "version": "3.6.9"
  }
 },
 "nbformat": 4,
 "nbformat_minor": 2
}
