{
 "cells": [
  {
   "cell_type": "markdown",
   "metadata": {},
   "source": [
    "# Maintaining a Unique ID Field\n",
    "\n",
    "Now that we've created some unique IDs in our ArcGIS Online layer, we can write a script that makes sure it stays useful, populated, and unique.  Two things we'll want to look for are:\n",
    " - features with duplicate IDs\n",
    " - features with no ID\n",
    " \n",
    "Let's start by setting up our login and item information again"
   ]
  },
  {
   "cell_type": "code",
   "execution_count": 1,
   "metadata": {},
   "outputs": [
    {
     "name": "stdout",
     "output_type": "stream",
     "text": [
      "Username: DaveC_BayGeo\n",
      "Enter password: ········\n"
     ]
    }
   ],
   "source": [
    "# input your specific username\n",
    "username = input('Username: ')\n",
    "\n",
    "import arcgis\n",
    "\n",
    "# set up a GIS object to store your login information and acccess our data.\n",
    "session_gis = arcgis.GIS('https://arcgis.com',username)"
   ]
  },
  {
   "cell_type": "code",
   "execution_count": 2,
   "metadata": {},
   "outputs": [
    {
     "data": {
      "text/html": [
       "<div class=\"item_container\" style=\"height: auto; overflow: hidden; border: 1px solid #cfcfcf; border-radius: 2px; background: #f6fafa; line-height: 1.21429em; padding: 10px;\">\n",
       "                    <div class=\"item_left\" style=\"width: 210px; float: left;\">\n",
       "                       <a href='https://sfbaygeo.maps.arcgis.com/home/item.html?id=11f10170934c413c8db8a40563ed9a4a' target='_blank'>\n",
       "                        <img src='data:image/png;base64,iVBORw0KGgoAAAANSUhEUgAAAMgAAACFCAYAAAAenrcsAAABGUlEQVR42u3TAQ0AAAzCMPybBgU38LQSliwFTpEADAIGAYOAQcAgYBAwCBgEDAIYBAwCBgGDgEHAIGAQMAgYBAwCGAQMAgYBg4BBwCBgEDAIGAQwCBgEDAIGAYOAQcAgYBAwCBgEMAgYBAwCBgGDgEHAIGAQMAhgEDAIGAQMAgYBg4BBwCBgEDAIYBAwCBgEDAIGAYOAQcAgYBDAIGAQMAgYBAwCBgGDgEHAIGAQwCBgEDAIGAQMAgYBg4BBwCBgEAnAIGAQMAgYBAwCBgGDgEHAIIBBwCBgEDAIGAQMAgYBg4BBwCCAQcAgYBAwCBgEDAIGAYOAQQCDgEHAIGAQMAgYBAwCBgGDgEEAg4BBwCBgEDAIGAQMAu8MNFIYo2feTFIAAAAASUVORK5CYII=' width='200' height='133' class=\"itemThumbnail\">\n",
       "                       </a>\n",
       "                    </div>\n",
       "\n",
       "                    <div class=\"item_right\"     style=\"float: none; width: auto; overflow: hidden;\">\n",
       "                        <a href='https://sfbaygeo.maps.arcgis.com/home/item.html?id=11f10170934c413c8db8a40563ed9a4a' target='_blank'><b>Demo_Vegetation_Data_Base</b>\n",
       "                        </a>\n",
       "                        <br/><img src='https://sfbaygeo.maps.arcgis.com/home/js/jsapi/esri/css/images/item_type_icons/featureshosted16.png' style=\"vertical-align:middle;\">Feature Layer Collection by dancranford\n",
       "                        <br/>Last Modified: April 27, 2020\n",
       "                        <br/>0 comments, 27 views\n",
       "                    </div>\n",
       "                </div>\n",
       "                "
      ],
      "text/plain": [
       "<Item title:\"Demo_Vegetation_Data_Base\" type:Feature Layer Collection owner:dancranford>"
      ]
     },
     "execution_count": 2,
     "metadata": {},
     "output_type": "execute_result"
    }
   ],
   "source": [
    "# item containing our vegetation data to edit\n",
    "item_to_edit = arcgis.gis.Item(session_gis, '11f10170934c413c8db8a40563ed9a4a')\n",
    "item_to_edit"
   ]
  },
  {
   "cell_type": "code",
   "execution_count": 4,
   "metadata": {},
   "outputs": [],
   "source": [
    "# We'll be focusing on the point layer for the time being.\n",
    "lyr_points = item_to_edit.layers[0]"
   ]
  },
  {
   "cell_type": "markdown",
   "metadata": {},
   "source": [
    "## What we already know about this layer.\n",
    " - There's a unique ID field called **AUTO_ID** that we're maintaining.\n",
    " - The IDs we put in there were formatted like **ID_00001** with incrementing unique numbers\n",
    " \n",
    "\n",
    "Firstly, let's look to see if we can find any duplicate IDs in our dataset.  There are a couple different ways to do this, but first we'll have to query the data."
   ]
  },
  {
   "cell_type": "code",
   "execution_count": 20,
   "metadata": {},
   "outputs": [],
   "source": [
    "# let's query the data.  We'll omit the geometry because we don't need it.\n",
    "fset_all = lyr_points.query(return_geometry=False)"
   ]
  },
  {
   "cell_type": "markdown",
   "metadata": {},
   "source": [
    "Now let's iterate through the data and see if we can identify any duplicate IDs.  Let's think through this with pseudo code.  \n",
    "Check out Method 1 in the following link: <br> https://www.geeksforgeeks.org/python-get-unique-values-list/\n",
    "\n",
    "What we'll need to do is:\n",
    "\n",
    "1. Set up an empty list to store our unique IDs\n",
    "1. Set up an empty list to store any dupilicate IDs\n",
    "1. iterate through each feature in the FeatureSet (which is called fset_all and has a property called features)\n",
    "- for each feature\n",
    "  - \"get\" the unique ID (Hint - Feature objects have a method called \"get_value\")\n",
    "  - check to see if that unique ID is already in our list of uniques\n",
    "       - if it is already in our list of unique IDs, add it to our list of duplicate IDs\n",
    "       - if it's not in our list of unique IDs, add it to the list of unique IDs"
   ]
  },
  {
   "cell_type": "code",
   "execution_count": null,
   "metadata": {},
   "outputs": [],
   "source": [
    "unique_ids = []\n",
    "duplicate_ids = []\n",
    "\n",
    "# now try to implement your own code to find duplicates in the field \"AUTO_ID\"\n",
    "\n"
   ]
  },
  {
   "cell_type": "code",
   "execution_count": 24,
   "metadata": {},
   "outputs": [
    {
     "data": {
      "text/html": [
       "<script>\n",
       "code_show=true; \n",
       "function code_toggle() {\n",
       "    if (code_show){\n",
       "        $('div.cell.code_cell.rendered.selected div.input').hide();\n",
       "    } else {\n",
       "        $('div.cell.code_cell.rendered.selected div.input').show();\n",
       "    }\n",
       "    code_show = !code_show\n",
       "} \n",
       "$( document ).ready(code_toggle);\n",
       "</script>\n",
       "To see the solution, click <a href=\"javascript:code_toggle()\">here</a>."
      ],
      "text/plain": [
       "<IPython.core.display.HTML object>"
      ]
     },
     "metadata": {},
     "output_type": "display_data"
    }
   ],
   "source": [
    "from IPython.display import HTML\n",
    "from IPython.display import display\n",
    "\n",
    "# Taken from https://stackoverflow.com/questions/31517194/how-to-hide-one-specific-cell-input-or-output-in-ipython-notebook\n",
    "tag = HTML('''<script>\n",
    "code_show=true; \n",
    "function code_toggle() {\n",
    "    if (code_show){\n",
    "        $('div.cell.code_cell.rendered.selected div.input').hide();\n",
    "    } else {\n",
    "        $('div.cell.code_cell.rendered.selected div.input').show();\n",
    "    }\n",
    "    code_show = !code_show\n",
    "} \n",
    "$( document ).ready(code_toggle);\n",
    "</script>\n",
    "To see the solution, click <a href=\"javascript:code_toggle()\">here</a>.''')\n",
    "display(tag)\n",
    "\n",
    "############### Write code below ##################\n",
    "\n",
    "unique_ids = []\n",
    "duplicate_ids = []\n",
    "\n",
    "for feature in fset_all.features:\n",
    "    auto_id = feature.get_value('AUTO_ID')\n",
    "    if auto_id in unique_ids:\n",
    "        duplicate_ids.append(auto_id)\n",
    "    else:\n",
    "        unique_ids.append(auto_id)\n",
    "        "
   ]
  },
  {
   "cell_type": "code",
   "execution_count": null,
   "metadata": {},
   "outputs": [],
   "source": [
    "duplicate_ids"
   ]
  },
  {
   "cell_type": "markdown",
   "metadata": {},
   "source": [
    "Now that we've identified some duplicates, let's modify our code to blank the duplicates so we can reassign them.  We can insert the following method into our logic we built earlier (when we identify a duplicate).\n",
    "<br><code>feature.set_value('AUTO_ID','')</code>"
   ]
  },
  {
   "cell_type": "code",
   "execution_count": 30,
   "metadata": {},
   "outputs": [],
   "source": [
    "unique_ids = []\n",
    "duplicate_ids = []\n",
    "\n",
    "for feature in fset_all.features:\n",
    "    auto_id = feature.get_value('AUTO_ID')\n",
    "    if auto_id in unique_ids:\n",
    "        feature.set_value('AUTO_ID','')\n",
    "    else:\n",
    "        unique_ids.append(auto_id)\n",
    "        "
   ]
  },
  {
   "cell_type": "code",
   "execution_count": 56,
   "metadata": {},
   "outputs": [
    {
     "name": "stdout",
     "output_type": "stream",
     "text": [
      "41\n",
      "39\n"
     ]
    }
   ],
   "source": [
    "# remember our list comprehentions from before?\n",
    "all_ids = [feature.get_value('AUTO_ID') for feature in fset_all.features]\n",
    "print(len(all_ids))\n",
    "\n",
    "# this is method two from the link above. using the set() property in Python\n",
    "unique_ids = list(set(all_ids))\n",
    "print(len(unique_ids))"
   ]
  },
  {
   "cell_type": "markdown",
   "metadata": {},
   "source": [
    "## Finding out the highest number in our ID list\n",
    "\n",
    "Because we made these IDs up, they're all in a format we know.  That means we can break them apart to do numeric comparisons with the numbers in the IDs.\n",
    "\n",
    "Our IDs are <code>string</code> data objects with an underscore in the middle.  Like **ID_00001**.  Let's use the <code>.split()</code> method to turn our ID string into a <code>list</code> object with a length of 2.  Once we've done that, we can turn the second item in our list to an integer using <code>int()</code>.\n",
    "\n",
    "Let's try to write a function.  If you need a hint, my version of the function will be in the next cell."
   ]
  },
  {
   "cell_type": "code",
   "execution_count": 43,
   "metadata": {},
   "outputs": [],
   "source": [
    "def split_ID_get_number(string_id):\n",
    "    # your code here\n"
   ]
  },
  {
   "cell_type": "code",
   "execution_count": 61,
   "metadata": {},
   "outputs": [
    {
     "data": {
      "text/html": [
       "<script>\n",
       "code_show=true; \n",
       "function code_toggle() {\n",
       "    if (code_show){\n",
       "        $('div.cell.code_cell.rendered.selected div.input').hide();\n",
       "    } else {\n",
       "        $('div.cell.code_cell.rendered.selected div.input').show();\n",
       "    }\n",
       "    code_show = !code_show\n",
       "} \n",
       "$( document ).ready(code_toggle);\n",
       "</script>\n",
       "To see my solution, click <a href=\"javascript:code_toggle()\">here</a>."
      ],
      "text/plain": [
       "<IPython.core.display.HTML object>"
      ]
     },
     "metadata": {},
     "output_type": "display_data"
    }
   ],
   "source": [
    "from IPython.display import HTML\n",
    "from IPython.display import display\n",
    "\n",
    "# Taken from https://stackoverflow.com/questions/31517194/how-to-hide-one-specific-cell-input-or-output-in-ipython-notebook\n",
    "tag = HTML('''<script>\n",
    "code_show=true; \n",
    "function code_toggle() {\n",
    "    if (code_show){\n",
    "        $('div.cell.code_cell.rendered.selected div.input').hide();\n",
    "    } else {\n",
    "        $('div.cell.code_cell.rendered.selected div.input').show();\n",
    "    }\n",
    "    code_show = !code_show\n",
    "} \n",
    "$( document ).ready(code_toggle);\n",
    "</script>\n",
    "To see my solution, click <a href=\"javascript:code_toggle()\">here</a>.''')\n",
    "display(tag)\n",
    "\n",
    "############### Write code below ##################\n",
    "\n",
    "\n",
    "def split_ID_get_number(string_id):\n",
    "    # split the ID into a list\n",
    "    list_id = string_id.split(\"_\")\n",
    "    \n",
    "    # cast the second item in the list as an integer\n",
    "    int_id = int(list_id[1])\n",
    "    return int_id\n",
    "    \n"
   ]
  },
  {
   "cell_type": "code",
   "execution_count": null,
   "metadata": {},
   "outputs": [],
   "source": [
    "print(split_ID_get_number('ID_00001'))\n",
    "print(split_ID_get_number('ID_00201'))"
   ]
  },
  {
   "cell_type": "code",
   "execution_count": 39,
   "metadata": {},
   "outputs": [],
   "source": [
    "all_int_ids = [split_ID_get_number(auto_id) for auto_id in all_ids ]\n",
    "# all_int_ids = [split_ID_get_number(auto_id) for auto_id in all_ids if 'ID' in auto_id]"
   ]
  },
  {
   "cell_type": "code",
   "execution_count": 41,
   "metadata": {},
   "outputs": [
    {
     "data": {
      "text/plain": [
       "40"
      ]
     },
     "execution_count": 41,
     "metadata": {},
     "output_type": "execute_result"
    }
   ],
   "source": [
    "max(all_int_ids)"
   ]
  },
  {
   "cell_type": "markdown",
   "metadata": {},
   "source": [
    "### Now let's build a function that puts all this together.\n",
    "\n",
    " - Our input should be a list of feature objects\n",
    " - Our output should be one integer that represents the max number in any id.\n",
    " - Feel free to use <code>split_ID_get_number()</code> in this new function."
   ]
  },
  {
   "cell_type": "code",
   "execution_count": null,
   "metadata": {},
   "outputs": [],
   "source": [
    "def get_max_id_int(list_of_features):\n",
    "    # your code here\n",
    "    pass"
   ]
  },
  {
   "cell_type": "code",
   "execution_count": 64,
   "metadata": {},
   "outputs": [
    {
     "data": {
      "text/html": [
       "<script>\n",
       "code_show=true; \n",
       "function code_toggle() {\n",
       "    if (code_show){\n",
       "        $('div.cell.code_cell.rendered.selected div.input').hide();\n",
       "    } else {\n",
       "        $('div.cell.code_cell.rendered.selected div.input').show();\n",
       "    }\n",
       "    code_show = !code_show\n",
       "} \n",
       "$( document ).ready(code_toggle);\n",
       "</script>\n",
       "To see my solution, click <a href=\"javascript:code_toggle()\">here</a>."
      ],
      "text/plain": [
       "<IPython.core.display.HTML object>"
      ]
     },
     "metadata": {},
     "output_type": "display_data"
    }
   ],
   "source": [
    "from IPython.display import HTML\n",
    "from IPython.display import display\n",
    "\n",
    "# Taken from https://stackoverflow.com/questions/31517194/how-to-hide-one-specific-cell-input-or-output-in-ipython-notebook\n",
    "tag = HTML('''<script>\n",
    "code_show=true; \n",
    "function code_toggle() {\n",
    "    if (code_show){\n",
    "        $('div.cell.code_cell.rendered.selected div.input').hide();\n",
    "    } else {\n",
    "        $('div.cell.code_cell.rendered.selected div.input').show();\n",
    "    }\n",
    "    code_show = !code_show\n",
    "} \n",
    "$( document ).ready(code_toggle);\n",
    "</script>\n",
    "To see my solution, click <a href=\"javascript:code_toggle()\">here</a>.''')\n",
    "display(tag)\n",
    "\n",
    "############### Write code below ##################\n",
    "\n",
    "\n",
    "def get_max_id_int(list_of_features):\n",
    "    # get all the IDs\n",
    "    all_ids = [feature.get_value('AUTO_ID') for feature in list_of_features if feature.get_value(\"AUTO_ID\") != None]\n",
    "    \n",
    "    # extract the integers from all the IDs\n",
    "    all_int_ids = [split_ID_get_number(auto_id) for auto_id in all_ids if 'ID' in auto_id]\n",
    "    \n",
    "    # return the max of the integers\n",
    "    return max(all_int_ids)\n",
    "\n",
    "    \n"
   ]
  },
  {
   "cell_type": "markdown",
   "metadata": {},
   "source": [
    "Now let's test this function"
   ]
  },
  {
   "cell_type": "code",
   "execution_count": 65,
   "metadata": {},
   "outputs": [
    {
     "data": {
      "text/plain": [
       "40"
      ]
     },
     "execution_count": 65,
     "metadata": {},
     "output_type": "execute_result"
    }
   ],
   "source": [
    "get_max_id_int(fset_all.features)"
   ]
  },
  {
   "cell_type": "code",
   "execution_count": null,
   "metadata": {},
   "outputs": [],
   "source": []
  },
  {
   "cell_type": "code",
   "execution_count": null,
   "metadata": {},
   "outputs": [],
   "source": []
  },
  {
   "cell_type": "code",
   "execution_count": null,
   "metadata": {},
   "outputs": [],
   "source": []
  }
 ],
 "metadata": {
  "kernelspec": {
   "display_name": "Python 3",
   "language": "python",
   "name": "python3"
  },
  "language_info": {
   "codemirror_mode": {
    "name": "ipython",
    "version": 3
   },
   "file_extension": ".py",
   "mimetype": "text/x-python",
   "name": "python",
   "nbconvert_exporter": "python",
   "pygments_lexer": "ipython3",
   "version": "3.6.9"
  }
 },
 "nbformat": 4,
 "nbformat_minor": 2
}
