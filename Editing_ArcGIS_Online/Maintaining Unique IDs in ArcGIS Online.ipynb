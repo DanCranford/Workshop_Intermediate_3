{
 "cells": [
  {
   "cell_type": "markdown",
   "metadata": {},
   "source": [
    "# Maintaining a Unique ID Field\n",
    "\n",
    "Now that we've created some unique IDs in our ArcGIS Online layer, we can write a script that makes sure it stays useful, populated, and unique.  Two things we'll want to look for are:\n",
    " - features with duplicate IDs\n",
    " - features with no ID\n",
    " \n",
    "Let's start by setting up our login and item information again"
   ]
  },
  {
   "cell_type": "code",
   "execution_count": 1,
   "metadata": {},
   "outputs": [
    {
     "name": "stdout",
     "output_type": "stream",
     "text": [
      "Username: DaveC_BayGeo\n",
      "Enter password: ········\n"
     ]
    }
   ],
   "source": [
    "# input your specific username\n",
    "username = input('Username: ')\n",
    "\n",
    "import arcgis\n",
    "\n",
    "# set up a GIS object to store your login information and acccess our data.\n",
    "session_gis = arcgis.GIS('https://arcgis.com',username)"
   ]
  },
  {
   "cell_type": "code",
   "execution_count": 2,
   "metadata": {},
   "outputs": [
    {
     "data": {
      "text/html": [
       "<div class=\"item_container\" style=\"height: auto; overflow: hidden; border: 1px solid #cfcfcf; border-radius: 2px; background: #f6fafa; line-height: 1.21429em; padding: 10px;\">\n",
       "                    <div class=\"item_left\" style=\"width: 210px; float: left;\">\n",
       "                       <a href='https://sfbaygeo.maps.arcgis.com/home/item.html?id=11f10170934c413c8db8a40563ed9a4a' target='_blank'>\n",
       "                        <img src='data:image/png;base64,iVBORw0KGgoAAAANSUhEUgAAAMgAAACFCAYAAAAenrcsAAABGUlEQVR42u3TAQ0AAAzCMPybBgU38LQSliwFTpEADAIGAYOAQcAgYBAwCBgEDAIYBAwCBgGDgEHAIGAQMAgYBAwCGAQMAgYBg4BBwCBgEDAIGAQwCBgEDAIGAYOAQcAgYBAwCBgEMAgYBAwCBgGDgEHAIGAQMAhgEDAIGAQMAgYBg4BBwCBgEDAIYBAwCBgEDAIGAYOAQcAgYBDAIGAQMAgYBAwCBgGDgEHAIGAQwCBgEDAIGAQMAgYBg4BBwCBgEAnAIGAQMAgYBAwCBgGDgEHAIIBBwCBgEDAIGAQMAgYBg4BBwCCAQcAgYBAwCBgEDAIGAYOAQQCDgEHAIGAQMAgYBAwCBgGDgEEAg4BBwCBgEDAIGAQMAu8MNFIYo2feTFIAAAAASUVORK5CYII=' width='200' height='133' class=\"itemThumbnail\">\n",
       "                       </a>\n",
       "                    </div>\n",
       "\n",
       "                    <div class=\"item_right\"     style=\"float: none; width: auto; overflow: hidden;\">\n",
       "                        <a href='https://sfbaygeo.maps.arcgis.com/home/item.html?id=11f10170934c413c8db8a40563ed9a4a' target='_blank'><b>Demo_Vegetation_Data_Base</b>\n",
       "                        </a>\n",
       "                        <br/><img src='https://sfbaygeo.maps.arcgis.com/home/js/jsapi/esri/css/images/item_type_icons/featureshosted16.png' style=\"vertical-align:middle;\">Feature Layer Collection by dancranford\n",
       "                        <br/>Last Modified: April 27, 2020\n",
       "                        <br/>0 comments, 27 views\n",
       "                    </div>\n",
       "                </div>\n",
       "                "
      ],
      "text/plain": [
       "<Item title:\"Demo_Vegetation_Data_Base\" type:Feature Layer Collection owner:dancranford>"
      ]
     },
     "execution_count": 2,
     "metadata": {},
     "output_type": "execute_result"
    }
   ],
   "source": [
    "# item containing our vegetation data to edit\n",
    "item_to_edit = arcgis.gis.Item(session_gis, '11f10170934c413c8db8a40563ed9a4a')\n",
    "item_to_edit"
   ]
  },
  {
   "cell_type": "code",
   "execution_count": 4,
   "metadata": {},
   "outputs": [],
   "source": [
    "# We'll be focusing on the point layer for the time being.\n",
    "lyr_points = item_to_edit.layers[0]"
   ]
  },
  {
   "cell_type": "markdown",
   "metadata": {},
   "source": [
    "## What we already know about this layer.\n",
    " - There's a unique ID field called **AUTO_ID** that we're maintaining.\n",
    " - The IDs we put in there were formatted like **ID_00001** with incrementing unique numbers\n",
    " \n",
    "\n",
    "Firstly, let's look to see if we can find any duplicate IDs in our dataset.  There are a couple different ways to do this, but first we'll have to query the data."
   ]
  },
  {
   "cell_type": "code",
   "execution_count": 15,
   "metadata": {},
   "outputs": [],
   "source": [
    "all_ids = [feature.get_value('AUTO_ID') for feature in lyr_points.query()]"
   ]
  },
  {
   "cell_type": "code",
   "execution_count": 16,
   "metadata": {},
   "outputs": [
    {
     "data": {
      "text/plain": [
       "['ID_00001',\n",
       " 'ID_00002',\n",
       " 'ID_00003',\n",
       " 'ID_00004',\n",
       " 'ID_00005',\n",
       " 'ID_00006',\n",
       " 'ID_00007',\n",
       " 'ID_00008',\n",
       " 'ID_00009',\n",
       " 'ID_00010',\n",
       " 'ID_00011',\n",
       " 'ID_00012',\n",
       " 'ID_00013',\n",
       " 'ID_00014',\n",
       " 'ID_00015',\n",
       " 'ID_00016',\n",
       " 'ID_00017',\n",
       " 'ID_00018',\n",
       " 'ID_00019',\n",
       " 'ID_00019',\n",
       " 'ID_00019',\n",
       " 'ID_00022',\n",
       " 'ID_00023',\n",
       " 'ID_00024',\n",
       " 'ID_00025',\n",
       " 'ID_00026',\n",
       " 'ID_00027',\n",
       " 'ID_00028',\n",
       " 'ID_00029',\n",
       " 'ID_00030',\n",
       " 'ID_00031',\n",
       " 'ID_00032',\n",
       " 'ID_00033',\n",
       " 'ID_00034',\n",
       " 'ID_00035',\n",
       " 'ID_00036',\n",
       " 'ID_00037',\n",
       " 'ID_00038',\n",
       " 'ID_00039',\n",
       " 'ID_00040',\n",
       " 'ID_00041']"
      ]
     },
     "execution_count": 16,
     "metadata": {},
     "output_type": "execute_result"
    }
   ],
   "source": [
    "all_ids"
   ]
  },
  {
   "cell_type": "code",
   "execution_count": null,
   "metadata": {},
   "outputs": [],
   "source": []
  }
 ],
 "metadata": {
  "kernelspec": {
   "display_name": "Python 3",
   "language": "python",
   "name": "python3"
  },
  "language_info": {
   "codemirror_mode": {
    "name": "ipython",
    "version": 3
   },
   "file_extension": ".py",
   "mimetype": "text/x-python",
   "name": "python",
   "nbconvert_exporter": "python",
   "pygments_lexer": "ipython3",
   "version": "3.6.9"
  }
 },
 "nbformat": 4,
 "nbformat_minor": 2
}
